{
 "cells": [
  {
   "cell_type": "markdown",
   "metadata": {},
   "source": [
    "# Objective\n",
    "- the objective of is to classify a news to ten categories\n",
    "- First we install the cohere package which will help us connect ot the cohere API\n",
    "    - ***pip install cohere***\n",
    "- Then we generate API key for the cohere"
   ]
  },
  {
   "cell_type": "markdown",
   "metadata": {},
   "source": [
    "# 1. Get the packages"
   ]
  },
  {
   "cell_type": "code",
   "execution_count": 12,
   "metadata": {},
   "outputs": [],
   "source": [
    "import pandas as pd\n",
    "import cohere\n",
    "from sklearn.model_selection import train_test_split\n",
    "\n",
    "import numpy as np\n",
    "from sklearn.metrics import accuracy_score\n",
    "from sklearn.metrics import f1_score\n"
   ]
  },
  {
   "cell_type": "markdown",
   "metadata": {},
   "source": [
    "# 2. Get the dataset"
   ]
  },
  {
   "cell_type": "code",
   "execution_count": 13,
   "metadata": {},
   "outputs": [],
   "source": [
    "# ADD YOUR API KEY HERE\n",
    "api_key = pd.read_json('../config/apikey.json')['cohere_key'][0]\n",
    "co =  cohere.Client(api_key)"
   ]
  },
  {
   "cell_type": "code",
   "execution_count": 14,
   "metadata": {},
   "outputs": [
    {
     "data": {
      "text/html": [
       "<div>\n",
       "<style scoped>\n",
       "    .dataframe tbody tr th:only-of-type {\n",
       "        vertical-align: middle;\n",
       "    }\n",
       "\n",
       "    .dataframe tbody tr th {\n",
       "        vertical-align: top;\n",
       "    }\n",
       "\n",
       "    .dataframe thead th {\n",
       "        text-align: right;\n",
       "    }\n",
       "</style>\n",
       "<table border=\"1\" class=\"dataframe\">\n",
       "  <thead>\n",
       "    <tr style=\"text-align: right;\">\n",
       "      <th></th>\n",
       "      <th>Domain</th>\n",
       "      <th>Title</th>\n",
       "      <th>Description</th>\n",
       "      <th>Body</th>\n",
       "      <th>Link</th>\n",
       "      <th>timestamp</th>\n",
       "      <th>Analyst_Average_Score</th>\n",
       "      <th>Analyst_Rank</th>\n",
       "      <th>Reference_Final_Score</th>\n",
       "    </tr>\n",
       "  </thead>\n",
       "  <tbody>\n",
       "    <tr>\n",
       "      <th>0</th>\n",
       "      <td>rassegnastampa.news</td>\n",
       "      <td>Boris Johnson using a taxpayer-funded jet for ...</td>\n",
       "      <td>…often trigger a protest vote that can upset…t...</td>\n",
       "      <td>Boris Johnson using a taxpayer-funded jet for ...</td>\n",
       "      <td>https://rassegnastampa.news/boris-johnson-usin...</td>\n",
       "      <td>2021-09-09T18:17:46.258006</td>\n",
       "      <td>0.00</td>\n",
       "      <td>4</td>\n",
       "      <td>1.96</td>\n",
       "    </tr>\n",
       "    <tr>\n",
       "      <th>1</th>\n",
       "      <td>twitter.com</td>\n",
       "      <td>Stumbled across an interesting case, a woman f...</td>\n",
       "      <td>Stumbled across an interesting case, a woman f...</td>\n",
       "      <td>Stumbled across an interesting case, a woman f...</td>\n",
       "      <td>http://twitter.com/CoruscaKhaya/status/1435585...</td>\n",
       "      <td>2021-09-08T13:02:45.802298</td>\n",
       "      <td>0.00</td>\n",
       "      <td>4</td>\n",
       "      <td>12.00</td>\n",
       "    </tr>\n",
       "    <tr>\n",
       "      <th>2</th>\n",
       "      <td>atpe-tchad.info</td>\n",
       "      <td>Marché Résines dans les peintures et revêtemen...</td>\n",
       "      <td>…COVID-19…COVID…COVID…COVID-19 et Post COVID…C...</td>\n",
       "      <td>Le rapport d’étude de marché Résines dans les ...</td>\n",
       "      <td>http://atpe-tchad.info/2021/09/13/marche-resin...</td>\n",
       "      <td>2021-09-13T07:32:46.244403</td>\n",
       "      <td>0.00</td>\n",
       "      <td>4</td>\n",
       "      <td>0.05</td>\n",
       "    </tr>\n",
       "    <tr>\n",
       "      <th>3</th>\n",
       "      <td>badbluetech.bitnamiapp.com</td>\n",
       "      <td>AI drives data analytics surge, study finds</td>\n",
       "      <td>…hate raiders' linked to automated harassment ...</td>\n",
       "      <td>How to drive the funnel through content market...</td>\n",
       "      <td>http://badbluetech.bitnamiapp.com/p.php?sid=21...</td>\n",
       "      <td>2021-09-11T00:17:45.962605</td>\n",
       "      <td>0.00</td>\n",
       "      <td>4</td>\n",
       "      <td>6.10</td>\n",
       "    </tr>\n",
       "    <tr>\n",
       "      <th>4</th>\n",
       "      <td>kryptogazette.com</td>\n",
       "      <td>Triacetin Vertrieb Markt 2021: Globale Unterne...</td>\n",
       "      <td>…Abschnitten und Endanwendungen / Organisation...</td>\n",
       "      <td>Global Triacetin Vertrieb-Markt 2021 von Herst...</td>\n",
       "      <td>https://kryptogazette.com/2021/09/08/triacetin...</td>\n",
       "      <td>2021-09-08T12:47:46.078369</td>\n",
       "      <td>0.00</td>\n",
       "      <td>4</td>\n",
       "      <td>0.13</td>\n",
       "    </tr>\n",
       "    <tr>\n",
       "      <th>5</th>\n",
       "      <td>mype.co.za</td>\n",
       "      <td>Male arrested for the murder of an elderly fem...</td>\n",
       "      <td>…Crime Stamp Out…N1 and R101 roads appear in c...</td>\n",
       "      <td>South African Police Service Office of the Pro...</td>\n",
       "      <td>https://mype.co.za/new/male-arrested-for-the-m...</td>\n",
       "      <td>2021-09-10T00:17:46.055622</td>\n",
       "      <td>1.33</td>\n",
       "      <td>2</td>\n",
       "      <td>11.00</td>\n",
       "    </tr>\n",
       "    <tr>\n",
       "      <th>6</th>\n",
       "      <td>eminetra.co.za</td>\n",
       "      <td>7th Anniversary of SCOAN Collapse in Nigeria-S...</td>\n",
       "      <td>…in Lagos, Nigeria, 84 South Africans were kil...</td>\n",
       "      <td>Today is the 7th anniversary [Tragic collapse ...</td>\n",
       "      <td>https://eminetra.co.za/7th-anniversary-of-scoa...</td>\n",
       "      <td>2021-09-12T05:17:50.279081</td>\n",
       "      <td>0.00</td>\n",
       "      <td>4</td>\n",
       "      <td>10.10</td>\n",
       "    </tr>\n",
       "    <tr>\n",
       "      <th>7</th>\n",
       "      <td>eminetra.co.za</td>\n",
       "      <td>The construction sector is expected to be boos...</td>\n",
       "      <td>…additional spending on buildings, repairs and...</td>\n",
       "      <td>Construction activity grew steadily by 4% in t...</td>\n",
       "      <td>https://eminetra.co.za/the-construction-sector...</td>\n",
       "      <td>2021-09-09T09:02:46.320793</td>\n",
       "      <td>1.66</td>\n",
       "      <td>1</td>\n",
       "      <td>1.36</td>\n",
       "    </tr>\n",
       "    <tr>\n",
       "      <th>8</th>\n",
       "      <td>news24.com</td>\n",
       "      <td>News24.com | Court dismisses attempt by former...</td>\n",
       "      <td>…Lawsuit Against Public Participation) designe...</td>\n",
       "      <td>- Former Eskom CEO Matshela Moses Koko sought ...</td>\n",
       "      <td>https://www.news24.com/news24/southafrica/news...</td>\n",
       "      <td>2021-09-09T19:32:46.239682</td>\n",
       "      <td>0.33</td>\n",
       "      <td>3</td>\n",
       "      <td>2.40</td>\n",
       "    </tr>\n",
       "    <tr>\n",
       "      <th>9</th>\n",
       "      <td>manometcurrent.com</td>\n",
       "      <td>Global and Regional Beta-Carotene Market Resea...</td>\n",
       "      <td>…key players! – DSM – BASF – Allied Biotech – ...</td>\n",
       "      <td>Global and Regional Beta-Carotene Market Resea...</td>\n",
       "      <td>https://manometcurrent.com/global-and-regional...</td>\n",
       "      <td>2021-09-13T03:02:45.609228</td>\n",
       "      <td>0.00</td>\n",
       "      <td>4</td>\n",
       "      <td>0.22</td>\n",
       "    </tr>\n",
       "  </tbody>\n",
       "</table>\n",
       "</div>"
      ],
      "text/plain": [
       "                       Domain  \\\n",
       "0         rassegnastampa.news   \n",
       "1                 twitter.com   \n",
       "2             atpe-tchad.info   \n",
       "3  badbluetech.bitnamiapp.com   \n",
       "4           kryptogazette.com   \n",
       "5                  mype.co.za   \n",
       "6              eminetra.co.za   \n",
       "7              eminetra.co.za   \n",
       "8                  news24.com   \n",
       "9          manometcurrent.com   \n",
       "\n",
       "                                               Title  \\\n",
       "0  Boris Johnson using a taxpayer-funded jet for ...   \n",
       "1  Stumbled across an interesting case, a woman f...   \n",
       "2  Marché Résines dans les peintures et revêtemen...   \n",
       "3        AI drives data analytics surge, study finds   \n",
       "4  Triacetin Vertrieb Markt 2021: Globale Unterne...   \n",
       "5  Male arrested for the murder of an elderly fem...   \n",
       "6  7th Anniversary of SCOAN Collapse in Nigeria-S...   \n",
       "7  The construction sector is expected to be boos...   \n",
       "8  News24.com | Court dismisses attempt by former...   \n",
       "9  Global and Regional Beta-Carotene Market Resea...   \n",
       "\n",
       "                                         Description  \\\n",
       "0  …often trigger a protest vote that can upset…t...   \n",
       "1  Stumbled across an interesting case, a woman f...   \n",
       "2  …COVID-19…COVID…COVID…COVID-19 et Post COVID…C...   \n",
       "3  …hate raiders' linked to automated harassment ...   \n",
       "4  …Abschnitten und Endanwendungen / Organisation...   \n",
       "5  …Crime Stamp Out…N1 and R101 roads appear in c...   \n",
       "6  …in Lagos, Nigeria, 84 South Africans were kil...   \n",
       "7  …additional spending on buildings, repairs and...   \n",
       "8  …Lawsuit Against Public Participation) designe...   \n",
       "9  …key players! – DSM – BASF – Allied Biotech – ...   \n",
       "\n",
       "                                                Body  \\\n",
       "0  Boris Johnson using a taxpayer-funded jet for ...   \n",
       "1  Stumbled across an interesting case, a woman f...   \n",
       "2  Le rapport d’étude de marché Résines dans les ...   \n",
       "3  How to drive the funnel through content market...   \n",
       "4  Global Triacetin Vertrieb-Markt 2021 von Herst...   \n",
       "5  South African Police Service Office of the Pro...   \n",
       "6  Today is the 7th anniversary [Tragic collapse ...   \n",
       "7  Construction activity grew steadily by 4% in t...   \n",
       "8  - Former Eskom CEO Matshela Moses Koko sought ...   \n",
       "9  Global and Regional Beta-Carotene Market Resea...   \n",
       "\n",
       "                                                Link  \\\n",
       "0  https://rassegnastampa.news/boris-johnson-usin...   \n",
       "1  http://twitter.com/CoruscaKhaya/status/1435585...   \n",
       "2  http://atpe-tchad.info/2021/09/13/marche-resin...   \n",
       "3  http://badbluetech.bitnamiapp.com/p.php?sid=21...   \n",
       "4  https://kryptogazette.com/2021/09/08/triacetin...   \n",
       "5  https://mype.co.za/new/male-arrested-for-the-m...   \n",
       "6  https://eminetra.co.za/7th-anniversary-of-scoa...   \n",
       "7  https://eminetra.co.za/the-construction-sector...   \n",
       "8  https://www.news24.com/news24/southafrica/news...   \n",
       "9  https://manometcurrent.com/global-and-regional...   \n",
       "\n",
       "                    timestamp  Analyst_Average_Score  Analyst_Rank  \\\n",
       "0  2021-09-09T18:17:46.258006                   0.00             4   \n",
       "1  2021-09-08T13:02:45.802298                   0.00             4   \n",
       "2  2021-09-13T07:32:46.244403                   0.00             4   \n",
       "3  2021-09-11T00:17:45.962605                   0.00             4   \n",
       "4  2021-09-08T12:47:46.078369                   0.00             4   \n",
       "5  2021-09-10T00:17:46.055622                   1.33             2   \n",
       "6  2021-09-12T05:17:50.279081                   0.00             4   \n",
       "7  2021-09-09T09:02:46.320793                   1.66             1   \n",
       "8  2021-09-09T19:32:46.239682                   0.33             3   \n",
       "9  2021-09-13T03:02:45.609228                   0.00             4   \n",
       "\n",
       "   Reference_Final_Score  \n",
       "0                   1.96  \n",
       "1                  12.00  \n",
       "2                   0.05  \n",
       "3                   6.10  \n",
       "4                   0.13  \n",
       "5                  11.00  \n",
       "6                  10.10  \n",
       "7                   1.36  \n",
       "8                   2.40  \n",
       "9                   0.22  "
      ]
     },
     "execution_count": 14,
     "metadata": {},
     "output_type": "execute_result"
    }
   ],
   "source": [
    "df = pd.read_csv('../data/news/news_data.csv')\n",
    "df\n"
   ]
  },
  {
   "cell_type": "code",
   "execution_count": 15,
   "metadata": {},
   "outputs": [
    {
     "data": {
      "text/plain": [
       "1    7\n",
       "0    3\n",
       "Name: Analyst_Rank, dtype: int64"
      ]
     },
     "execution_count": 15,
     "metadata": {},
     "output_type": "execute_result"
    }
   ],
   "source": [
    "df['Analyst_Rank'] = df['Analyst_Rank'].apply(lambda x: 0 if x<4 else 1)\n",
    "df['Analyst_Rank'].value_counts()"
   ]
  },
  {
   "cell_type": "code",
   "execution_count": 16,
   "metadata": {},
   "outputs": [],
   "source": [
    "# Split the dataset into training and test portions\n",
    "# Training = For use in Sections 2 and 3\n",
    "# Test = For evaluating the classifier performance\n",
    "X, y = df[\"Description\"], df[\"Analyst_Rank\"].astype(str)\n",
    "X_train, X_test, y_train, y_test = train_test_split(\n",
    "    X, y, test_size=0.10, random_state=21)"
   ]
  },
  {
   "cell_type": "code",
   "execution_count": 17,
   "metadata": {},
   "outputs": [
    {
     "name": "stdout",
     "output_type": "stream",
     "text": [
      "['1', '0']\n"
     ]
    }
   ],
   "source": [
    "# View the list of all available categories\n",
    "intents = y_train.unique().tolist()\n",
    "print(intents)\n"
   ]
  },
  {
   "cell_type": "markdown",
   "metadata": {},
   "source": [
    "# 3. Few-shot classification with the Classify endpoint"
   ]
  },
  {
   "cell_type": "markdown",
   "metadata": {},
   "source": [
    "### Preparing Examble"
   ]
  },
  {
   "cell_type": "code",
   "execution_count": 18,
   "metadata": {},
   "outputs": [
    {
     "name": "stdout",
     "output_type": "stream",
     "text": [
      "Number of classes: 2\n",
      "Total number of examples: 9\n"
     ]
    }
   ],
   "source": [
    "# Set the number of examples per category\n",
    "EX_PER_CAT = 6\n",
    "\n",
    "# Create list of examples containing texts and labels - sample from the dataset\n",
    "ex_texts, ex_labels = [], []\n",
    "for intent in intents:\n",
    "  y_temp = y_train[y_train == intent]\n",
    "  sample_indexes = y_temp.index#.sample(n=EX_PER_CAT, random_state=42).index\n",
    "  ex_texts += X_train[sample_indexes].tolist()\n",
    "  ex_labels += y_train[sample_indexes].tolist()\n",
    "\n",
    "# print(f'Number of examples per class: {EX_PER_CAT}')\n",
    "print(f'Number of classes: {len(intents)}')\n",
    "print(f'Total number of examples: {len(ex_texts)}')\n"
   ]
  },
  {
   "cell_type": "markdown",
   "metadata": {},
   "source": [
    "## 4. Get classifications via the Classify endpoint"
   ]
  },
  {
   "cell_type": "code",
   "execution_count": 19,
   "metadata": {},
   "outputs": [],
   "source": [
    "# Collate the examples via the Example module\n",
    "from cohere.classify import Example\n",
    "\n",
    "examples = list()\n",
    "for txt, lbl in zip(X_train,y_train):\n",
    "  examples.append(Example(txt,lbl))\n",
    "  "
   ]
  },
  {
   "cell_type": "code",
   "execution_count": 20,
   "metadata": {},
   "outputs": [],
   "source": [
    "def classify_text(text, examples):\n",
    "  classifications = co.classify(\n",
    "      model='xlarge',  # model version - medium-22020720\n",
    "      inputs=[text],\n",
    "      examples=examples\n",
    "  )\n",
    "  return classifications.classifications[0].prediction\n"
   ]
  },
  {
   "cell_type": "code",
   "execution_count": 21,
   "metadata": {},
   "outputs": [
    {
     "name": "stdout",
     "output_type": "stream",
     "text": [
      "Done\n"
     ]
    }
   ],
   "source": [
    "with open('../data/output/news_examples.txt', 'w') as f:\n",
    "    for item in examples:\n",
    "        # write each item on a new line\n",
    "        f.write(\"%s\\n\" % str(item).strip())\n",
    "    print('Done')\n"
   ]
  },
  {
   "cell_type": "code",
   "execution_count": 32,
   "metadata": {},
   "outputs": [
    {
     "name": "stdout",
     "output_type": "stream",
     "text": [
      "cohere.Example \n",
      "\n",
      "text: …COVID-19…COVID…COVID…COVID-19 et Post COVID…COVID…Covid…BASF…COVID…COVID-19 3.4.1 Évaluation des risques liés au COVID-19 3.4.2 Évaluation de l’impact global du COVID-19 sur l’industrie 3.4.3 Scénario de marché avant et après COVID…covid…covid…\n",
      "label: 1\n",
      "\n",
      "\n",
      "cohere.Example \n",
      "\n",
      "text: …additional spending on buildings, repairs and security in KwaZulu-Natal and Houten could boost construction activity in the third…starting block.” He hopes that further relaxation of blockade regulations and tax jackpots against the backdrop of record…\n",
      "label: 0\n",
      "\n",
      "\n",
      "cohere.Example \n",
      "\n",
      "text: …hate raiders' linked to automated harassment campaigns [engadget](d.php?did=engadget.com) Texas law could force social media to host misinformation and hate speech [ars](d.php?did=arstechnica.com)…breach…shot on…stolen data…Killed…M1…Toxic…Attack…\n",
      "label: 1\n",
      "\n",
      "\n",
      "cohere.Example \n",
      "\n",
      "text: …Crime Stamp Out…N1 and R101 roads appear in court – SAPS Crime Report:…Crime Report:…robbery – SAPS Crime Report: 2021-09-09 14:05:02] - 9 September 2021 - [Firearm recovered, three suspects in court – SAPS Crime Report:…robbery – SAPS Crime Report:…\n",
      "label: 0\n",
      "\n",
      "\n",
      "cohere.Example \n",
      "\n",
      "text: …in Lagos, Nigeria, 84 South Africans were killed. The building that houses the Christian pilgrims…Prophet, TB Joshua,](//www.sabcnews.com/sabcnews/nigerian-televangelist-tb-joshuas-dies-at-age-57/) I’m dead now. Limpopo man Patrick Mveji lost his only…\n",
      "label: 1\n",
      "\n",
      "\n",
      "cohere.Example \n",
      "\n",
      "text: …often trigger a protest vote that can upset…that ministers who breach the Ministerial Code…plane up the M1 in order to…serious questions about abuse of taxpayers' money which is a clear breach of the code.…should not permit abuse of taxpayers' money…\n",
      "label: 1\n",
      "\n",
      "\n",
      "cohere.Example \n",
      "\n",
      "text: …Abschnitten und Endanwendungen / Organisationen. Covid-19 kann die Weltwirtschaft auf…/ Key-Player profiliert: Eastman Polynt Lanxess BASF Daicel Jiangsu Ruijia Jiangsu Lemon…Japan, wie Eastman, Lanxess, BASF, Daicel und Jiangsu Ruijia konzentriert.…\n",
      "label: 1\n",
      "\n",
      "\n",
      "cohere.Example \n",
      "\n",
      "text: …Lawsuit Against Public Participation) designed to intimidate her. Johannesburg High Court Acting Judge Adele de Wet agreed. She…'Sphithiphithi Evaluator' in court for allegedly inciting public violence In October 2020, City Press posted an article on…\n",
      "label: 0\n",
      "\n",
      "\n",
      "cohere.Example \n",
      "\n",
      "text: …key players! – DSM – BASF – Allied Biotech – Chr…historical market performance, impact of COVID-19, post-covid scenario of market, forecast for…Supplement – Cosmetic Additives – Drug & Health Products – Others…– – DSM – BASF – Allied Biotech – Chr…\n",
      "label: 1\n",
      "\n",
      "\n"
     ]
    }
   ],
   "source": [
    "for ex in examples:\n",
    "    print()\n"
   ]
  },
  {
   "cell_type": "code",
   "execution_count": 23,
   "metadata": {},
   "outputs": [],
   "source": [
    "# Generate classification predictions on the test dataset (this will take a few minutes)\n",
    "y_pred = X_test.apply(classify_text, args=(examples,)).tolist()"
   ]
  },
  {
   "cell_type": "markdown",
   "metadata": {},
   "source": []
  },
  {
   "cell_type": "code",
   "execution_count": 24,
   "metadata": {},
   "outputs": [
    {
     "name": "stdout",
     "output_type": "stream",
     "text": [
      "Accuracy: 100.00\n",
      "F1-score: 100.00\n"
     ]
    }
   ],
   "source": [
    "# Compute metrics on the test dataset\n",
    "accuracy = accuracy_score(y_test, y_pred)\n",
    "f1 = f1_score(y_test, y_pred, average='weighted')\n",
    "\n",
    "print(f'Accuracy: {100*accuracy:.2f}')\n",
    "print(f'F1-score: {100*f1:.2f}')\n"
   ]
  },
  {
   "cell_type": "markdown",
   "metadata": {},
   "source": [
    "# 5. Get the embedding of the news title"
   ]
  },
  {
   "cell_type": "code",
   "execution_count": 25,
   "metadata": {},
   "outputs": [],
   "source": [
    "# Embed the training set\n",
    "embeddings_train = co.embed(texts=X_train.tolist(),\n",
    "                            model=\"large\",\n",
    "                            truncate=\"LEFT\").embeddings\n",
    "# Embed the testing set\n",
    "embeddings_test = co.embed(texts=X_test.tolist(),\n",
    "                           model=\"large\",\n",
    "                           truncate=\"LEFT\").embeddings\n"
   ]
  },
  {
   "cell_type": "code",
   "execution_count": 26,
   "metadata": {},
   "outputs": [
    {
     "name": "stdout",
     "output_type": "stream",
     "text": [
      "Review text: …often trigger a protest vote that can upset…that ministers who breach the Ministerial Code…plane up the M1 in order to…serious questions about abuse of taxpayers' money which is a clear breach of the code.…should not permit abuse of taxpayers' money…\n",
      "Embedding vector: [0.80549407, 1.0933834, 0.70318717, 1.4982257, -0.53660864, -0.78288454, 0.86601657, -2.3292928, 0.3933644, 0.010739213]\n"
     ]
    }
   ],
   "source": [
    "print(f\"Review text: {X_train[0]}\")\n",
    "print(f\"Embedding vector: {embeddings_train[0][:10]}\")\n"
   ]
  },
  {
   "cell_type": "markdown",
   "metadata": {},
   "source": [
    "# 6. Train a classifier using the training set"
   ]
  },
  {
   "cell_type": "code",
   "execution_count": 27,
   "metadata": {},
   "outputs": [
    {
     "data": {
      "text/html": [
       "<style>#sk-container-id-1 {color: black;background-color: white;}#sk-container-id-1 pre{padding: 0;}#sk-container-id-1 div.sk-toggleable {background-color: white;}#sk-container-id-1 label.sk-toggleable__label {cursor: pointer;display: block;width: 100%;margin-bottom: 0;padding: 0.3em;box-sizing: border-box;text-align: center;}#sk-container-id-1 label.sk-toggleable__label-arrow:before {content: \"▸\";float: left;margin-right: 0.25em;color: #696969;}#sk-container-id-1 label.sk-toggleable__label-arrow:hover:before {color: black;}#sk-container-id-1 div.sk-estimator:hover label.sk-toggleable__label-arrow:before {color: black;}#sk-container-id-1 div.sk-toggleable__content {max-height: 0;max-width: 0;overflow: hidden;text-align: left;background-color: #f0f8ff;}#sk-container-id-1 div.sk-toggleable__content pre {margin: 0.2em;color: black;border-radius: 0.25em;background-color: #f0f8ff;}#sk-container-id-1 input.sk-toggleable__control:checked~div.sk-toggleable__content {max-height: 200px;max-width: 100%;overflow: auto;}#sk-container-id-1 input.sk-toggleable__control:checked~label.sk-toggleable__label-arrow:before {content: \"▾\";}#sk-container-id-1 div.sk-estimator input.sk-toggleable__control:checked~label.sk-toggleable__label {background-color: #d4ebff;}#sk-container-id-1 div.sk-label input.sk-toggleable__control:checked~label.sk-toggleable__label {background-color: #d4ebff;}#sk-container-id-1 input.sk-hidden--visually {border: 0;clip: rect(1px 1px 1px 1px);clip: rect(1px, 1px, 1px, 1px);height: 1px;margin: -1px;overflow: hidden;padding: 0;position: absolute;width: 1px;}#sk-container-id-1 div.sk-estimator {font-family: monospace;background-color: #f0f8ff;border: 1px dotted black;border-radius: 0.25em;box-sizing: border-box;margin-bottom: 0.5em;}#sk-container-id-1 div.sk-estimator:hover {background-color: #d4ebff;}#sk-container-id-1 div.sk-parallel-item::after {content: \"\";width: 100%;border-bottom: 1px solid gray;flex-grow: 1;}#sk-container-id-1 div.sk-label:hover label.sk-toggleable__label {background-color: #d4ebff;}#sk-container-id-1 div.sk-serial::before {content: \"\";position: absolute;border-left: 1px solid gray;box-sizing: border-box;top: 0;bottom: 0;left: 50%;z-index: 0;}#sk-container-id-1 div.sk-serial {display: flex;flex-direction: column;align-items: center;background-color: white;padding-right: 0.2em;padding-left: 0.2em;position: relative;}#sk-container-id-1 div.sk-item {position: relative;z-index: 1;}#sk-container-id-1 div.sk-parallel {display: flex;align-items: stretch;justify-content: center;background-color: white;position: relative;}#sk-container-id-1 div.sk-item::before, #sk-container-id-1 div.sk-parallel-item::before {content: \"\";position: absolute;border-left: 1px solid gray;box-sizing: border-box;top: 0;bottom: 0;left: 50%;z-index: -1;}#sk-container-id-1 div.sk-parallel-item {display: flex;flex-direction: column;z-index: 1;position: relative;background-color: white;}#sk-container-id-1 div.sk-parallel-item:first-child::after {align-self: flex-end;width: 50%;}#sk-container-id-1 div.sk-parallel-item:last-child::after {align-self: flex-start;width: 50%;}#sk-container-id-1 div.sk-parallel-item:only-child::after {width: 0;}#sk-container-id-1 div.sk-dashed-wrapped {border: 1px dashed gray;margin: 0 0.4em 0.5em 0.4em;box-sizing: border-box;padding-bottom: 0.4em;background-color: white;}#sk-container-id-1 div.sk-label label {font-family: monospace;font-weight: bold;display: inline-block;line-height: 1.2em;}#sk-container-id-1 div.sk-label-container {text-align: center;}#sk-container-id-1 div.sk-container {/* jupyter's `normalize.less` sets `[hidden] { display: none; }` but bootstrap.min.css set `[hidden] { display: none !important; }` so we also need the `!important` here to be able to override the default hidden behavior on the sphinx rendered scikit-learn.org. See: https://github.com/scikit-learn/scikit-learn/issues/21755 */display: inline-block !important;position: relative;}#sk-container-id-1 div.sk-text-repr-fallback {display: none;}</style><div id=\"sk-container-id-1\" class=\"sk-top-container\"><div class=\"sk-text-repr-fallback\"><pre>Pipeline(steps=[(&#x27;standardscaler&#x27;, StandardScaler()),\n",
       "                (&#x27;svc&#x27;, SVC(class_weight=&#x27;balanced&#x27;))])</pre><b>In a Jupyter environment, please rerun this cell to show the HTML representation or trust the notebook. <br />On GitHub, the HTML representation is unable to render, please try loading this page with nbviewer.org.</b></div><div class=\"sk-container\" hidden><div class=\"sk-item sk-dashed-wrapped\"><div class=\"sk-label-container\"><div class=\"sk-label sk-toggleable\"><input class=\"sk-toggleable__control sk-hidden--visually\" id=\"sk-estimator-id-1\" type=\"checkbox\" ><label for=\"sk-estimator-id-1\" class=\"sk-toggleable__label sk-toggleable__label-arrow\">Pipeline</label><div class=\"sk-toggleable__content\"><pre>Pipeline(steps=[(&#x27;standardscaler&#x27;, StandardScaler()),\n",
       "                (&#x27;svc&#x27;, SVC(class_weight=&#x27;balanced&#x27;))])</pre></div></div></div><div class=\"sk-serial\"><div class=\"sk-item\"><div class=\"sk-estimator sk-toggleable\"><input class=\"sk-toggleable__control sk-hidden--visually\" id=\"sk-estimator-id-2\" type=\"checkbox\" ><label for=\"sk-estimator-id-2\" class=\"sk-toggleable__label sk-toggleable__label-arrow\">StandardScaler</label><div class=\"sk-toggleable__content\"><pre>StandardScaler()</pre></div></div></div><div class=\"sk-item\"><div class=\"sk-estimator sk-toggleable\"><input class=\"sk-toggleable__control sk-hidden--visually\" id=\"sk-estimator-id-3\" type=\"checkbox\" ><label for=\"sk-estimator-id-3\" class=\"sk-toggleable__label sk-toggleable__label-arrow\">SVC</label><div class=\"sk-toggleable__content\"><pre>SVC(class_weight=&#x27;balanced&#x27;)</pre></div></div></div></div></div></div></div>"
      ],
      "text/plain": [
       "Pipeline(steps=[('standardscaler', StandardScaler()),\n",
       "                ('svc', SVC(class_weight='balanced'))])"
      ]
     },
     "execution_count": 27,
     "metadata": {},
     "output_type": "execute_result"
    }
   ],
   "source": [
    "# import SVM classifier code\n",
    "from sklearn.svm import SVC\n",
    "from sklearn.pipeline import make_pipeline\n",
    "from sklearn.preprocessing import StandardScaler\n",
    "\n",
    "\n",
    "# Initialize a support vector machine, with class_weight='balanced' because\n",
    "# our training set has roughly an equal amount of positive and negative\n",
    "# sentiment sentences\n",
    "svm_classifier = make_pipeline(StandardScaler(), SVC(class_weight='balanced'))\n",
    "\n",
    "# fit the support vector machine\n",
    "svm_classifier.fit(embeddings_train, y_train)\n"
   ]
  },
  {
   "cell_type": "code",
   "execution_count": 28,
   "metadata": {},
   "outputs": [
    {
     "name": "stdout",
     "output_type": "stream",
     "text": [
      "Validation accuracy on Large is 100.0%!\n"
     ]
    }
   ],
   "source": [
    "# get the score from the test set, and print it out to screen!\n",
    "score = svm_classifier.score(embeddings_test, y_test)\n",
    "print(f\"Validation accuracy on Large is {100*score}%!\")\n"
   ]
  },
  {
   "cell_type": "markdown",
   "metadata": {},
   "source": [
    "Validation accuracy on Large is 66.7%!\n",
    "This was a small scale example, meant as a proof of concept and designed to illustrate how you can build a custom classifier quickly using a small amount of labelled data and Cohere's embeddings. Increase the number of training examples to achieve better performance on this task."
   ]
  }
 ],
 "metadata": {
  "kernelspec": {
   "display_name": "Python 3.10.5 ('10A')",
   "language": "python",
   "name": "python3"
  },
  "language_info": {
   "codemirror_mode": {
    "name": "ipython",
    "version": 3
   },
   "file_extension": ".py",
   "mimetype": "text/x-python",
   "name": "python",
   "nbconvert_exporter": "python",
   "pygments_lexer": "ipython3",
   "version": "3.10.5"
  },
  "orig_nbformat": 4,
  "vscode": {
   "interpreter": {
    "hash": "2be9f4616ca1b5198a62cd2082c7feed2682666a7b8fb219311f5849134be0bf"
   }
  }
 },
 "nbformat": 4,
 "nbformat_minor": 2
}
