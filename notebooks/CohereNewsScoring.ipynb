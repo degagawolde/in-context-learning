{
 "cells": [
  {
   "cell_type": "markdown",
   "metadata": {},
   "source": [
    "# Objective\n",
    "- the objective of is to classify a news to ten categories\n",
    "- First we install the cohere package which will help us connect ot the cohere API\n",
    "    - ***pip install cohere***\n",
    "- Then we generate API key for the cohere"
   ]
  },
  {
   "cell_type": "markdown",
   "metadata": {},
   "source": [
    "# 1. Get the packages"
   ]
  },
  {
   "cell_type": "code",
   "execution_count": 14,
   "metadata": {},
   "outputs": [],
   "source": [
    "import pandas as pd\n",
    "import cohere\n",
    "from sklearn.model_selection import train_test_split\n"
   ]
  },
  {
   "cell_type": "markdown",
   "metadata": {},
   "source": [
    "# 2. Get the dataset"
   ]
  },
  {
   "cell_type": "code",
   "execution_count": 15,
   "metadata": {},
   "outputs": [
    {
     "data": {
      "text/plain": [
       "Index(['Domain', 'Title', 'Description', 'Body', 'Link', 'timestamp',\n",
       "       'Analyst_Average_Score', 'Analyst_Rank', 'Reference_Final_Score'],\n",
       "      dtype='object')"
      ]
     },
     "execution_count": 15,
     "metadata": {},
     "output_type": "execute_result"
    }
   ],
   "source": [
    "pd.set_option('display.max_colwidth', None)\n",
    "# Get the SST2 training and test sets\n",
    "df = pd.read_csv('../data/news_data.csv')\n",
    "df.columns\n"
   ]
  },
  {
   "cell_type": "code",
   "execution_count": 18,
   "metadata": {},
   "outputs": [],
   "source": [
    "# Split into training and testing sets\n",
    "sentences_train, sentences_test, labels_train, labels_test = train_test_split(\n",
    "    list(df['Title']), list(df['Analyst_Rank']), test_size=0.25, random_state=0)\n"
   ]
  },
  {
   "cell_type": "markdown",
   "metadata": {},
   "source": [
    "# 3. Get the embedding of the news title"
   ]
  },
  {
   "cell_type": "code",
   "execution_count": 2,
   "metadata": {},
   "outputs": [],
   "source": [
    "# ADD YOUR API KEY HERE\n",
    "api_key = \"M83Glp01KZFaCkKn636Er3uY8MfTi9GIYu1AqhE8\"\n",
    "\n",
    "# Create and retrieve a Cohere API key from os.cohere.ai\n",
    "co = cohere.Client(api_key)\n"
   ]
  },
  {
   "cell_type": "code",
   "execution_count": 21,
   "metadata": {},
   "outputs": [],
   "source": [
    "# Embed the training set\n",
    "embeddings_train = co.embed(texts=sentences_train,\n",
    "                            model=\"large\",\n",
    "                            truncate=\"LEFT\").embeddings\n",
    "# Embed the testing set\n",
    "embeddings_test = co.embed(texts=sentences_test,\n",
    "                           model=\"large\",\n",
    "                           truncate=\"LEFT\").embeddings\n"
   ]
  },
  {
   "cell_type": "code",
   "execution_count": 22,
   "metadata": {},
   "outputs": [
    {
     "name": "stdout",
     "output_type": "stream",
     "text": [
      "Review text: Global and Regional Beta-Carotene Market Research 2020 Report | Growth Forecast 2025 key players! – DSM – BASF – Allied Biotech – Chr Hansen – LYCORED\n",
      "Embedding vector: [-2.1059608, 1.4654341, 1.3921894, 1.8436499, -2.7594426, 1.2028096, 1.6470028, 0.5763277, 0.11021129, 0.7930053]\n"
     ]
    }
   ],
   "source": [
    "print(f\"Review text: {sentences_train[0]}\")\n",
    "print(f\"Embedding vector: {embeddings_train[0][:10]}\")\n"
   ]
  },
  {
   "cell_type": "markdown",
   "metadata": {},
   "source": [
    "# 4. Train a classifier using the training set"
   ]
  },
  {
   "cell_type": "code",
   "execution_count": 23,
   "metadata": {},
   "outputs": [
    {
     "data": {
      "text/html": [
       "<style>#sk-container-id-1 {color: black;background-color: white;}#sk-container-id-1 pre{padding: 0;}#sk-container-id-1 div.sk-toggleable {background-color: white;}#sk-container-id-1 label.sk-toggleable__label {cursor: pointer;display: block;width: 100%;margin-bottom: 0;padding: 0.3em;box-sizing: border-box;text-align: center;}#sk-container-id-1 label.sk-toggleable__label-arrow:before {content: \"▸\";float: left;margin-right: 0.25em;color: #696969;}#sk-container-id-1 label.sk-toggleable__label-arrow:hover:before {color: black;}#sk-container-id-1 div.sk-estimator:hover label.sk-toggleable__label-arrow:before {color: black;}#sk-container-id-1 div.sk-toggleable__content {max-height: 0;max-width: 0;overflow: hidden;text-align: left;background-color: #f0f8ff;}#sk-container-id-1 div.sk-toggleable__content pre {margin: 0.2em;color: black;border-radius: 0.25em;background-color: #f0f8ff;}#sk-container-id-1 input.sk-toggleable__control:checked~div.sk-toggleable__content {max-height: 200px;max-width: 100%;overflow: auto;}#sk-container-id-1 input.sk-toggleable__control:checked~label.sk-toggleable__label-arrow:before {content: \"▾\";}#sk-container-id-1 div.sk-estimator input.sk-toggleable__control:checked~label.sk-toggleable__label {background-color: #d4ebff;}#sk-container-id-1 div.sk-label input.sk-toggleable__control:checked~label.sk-toggleable__label {background-color: #d4ebff;}#sk-container-id-1 input.sk-hidden--visually {border: 0;clip: rect(1px 1px 1px 1px);clip: rect(1px, 1px, 1px, 1px);height: 1px;margin: -1px;overflow: hidden;padding: 0;position: absolute;width: 1px;}#sk-container-id-1 div.sk-estimator {font-family: monospace;background-color: #f0f8ff;border: 1px dotted black;border-radius: 0.25em;box-sizing: border-box;margin-bottom: 0.5em;}#sk-container-id-1 div.sk-estimator:hover {background-color: #d4ebff;}#sk-container-id-1 div.sk-parallel-item::after {content: \"\";width: 100%;border-bottom: 1px solid gray;flex-grow: 1;}#sk-container-id-1 div.sk-label:hover label.sk-toggleable__label {background-color: #d4ebff;}#sk-container-id-1 div.sk-serial::before {content: \"\";position: absolute;border-left: 1px solid gray;box-sizing: border-box;top: 0;bottom: 0;left: 50%;z-index: 0;}#sk-container-id-1 div.sk-serial {display: flex;flex-direction: column;align-items: center;background-color: white;padding-right: 0.2em;padding-left: 0.2em;position: relative;}#sk-container-id-1 div.sk-item {position: relative;z-index: 1;}#sk-container-id-1 div.sk-parallel {display: flex;align-items: stretch;justify-content: center;background-color: white;position: relative;}#sk-container-id-1 div.sk-item::before, #sk-container-id-1 div.sk-parallel-item::before {content: \"\";position: absolute;border-left: 1px solid gray;box-sizing: border-box;top: 0;bottom: 0;left: 50%;z-index: -1;}#sk-container-id-1 div.sk-parallel-item {display: flex;flex-direction: column;z-index: 1;position: relative;background-color: white;}#sk-container-id-1 div.sk-parallel-item:first-child::after {align-self: flex-end;width: 50%;}#sk-container-id-1 div.sk-parallel-item:last-child::after {align-self: flex-start;width: 50%;}#sk-container-id-1 div.sk-parallel-item:only-child::after {width: 0;}#sk-container-id-1 div.sk-dashed-wrapped {border: 1px dashed gray;margin: 0 0.4em 0.5em 0.4em;box-sizing: border-box;padding-bottom: 0.4em;background-color: white;}#sk-container-id-1 div.sk-label label {font-family: monospace;font-weight: bold;display: inline-block;line-height: 1.2em;}#sk-container-id-1 div.sk-label-container {text-align: center;}#sk-container-id-1 div.sk-container {/* jupyter's `normalize.less` sets `[hidden] { display: none; }` but bootstrap.min.css set `[hidden] { display: none !important; }` so we also need the `!important` here to be able to override the default hidden behavior on the sphinx rendered scikit-learn.org. See: https://github.com/scikit-learn/scikit-learn/issues/21755 */display: inline-block !important;position: relative;}#sk-container-id-1 div.sk-text-repr-fallback {display: none;}</style><div id=\"sk-container-id-1\" class=\"sk-top-container\"><div class=\"sk-text-repr-fallback\"><pre>Pipeline(steps=[(&#x27;standardscaler&#x27;, StandardScaler()),\n",
       "                (&#x27;svc&#x27;, SVC(class_weight=&#x27;balanced&#x27;))])</pre><b>In a Jupyter environment, please rerun this cell to show the HTML representation or trust the notebook. <br />On GitHub, the HTML representation is unable to render, please try loading this page with nbviewer.org.</b></div><div class=\"sk-container\" hidden><div class=\"sk-item sk-dashed-wrapped\"><div class=\"sk-label-container\"><div class=\"sk-label sk-toggleable\"><input class=\"sk-toggleable__control sk-hidden--visually\" id=\"sk-estimator-id-1\" type=\"checkbox\" ><label for=\"sk-estimator-id-1\" class=\"sk-toggleable__label sk-toggleable__label-arrow\">Pipeline</label><div class=\"sk-toggleable__content\"><pre>Pipeline(steps=[(&#x27;standardscaler&#x27;, StandardScaler()),\n",
       "                (&#x27;svc&#x27;, SVC(class_weight=&#x27;balanced&#x27;))])</pre></div></div></div><div class=\"sk-serial\"><div class=\"sk-item\"><div class=\"sk-estimator sk-toggleable\"><input class=\"sk-toggleable__control sk-hidden--visually\" id=\"sk-estimator-id-2\" type=\"checkbox\" ><label for=\"sk-estimator-id-2\" class=\"sk-toggleable__label sk-toggleable__label-arrow\">StandardScaler</label><div class=\"sk-toggleable__content\"><pre>StandardScaler()</pre></div></div></div><div class=\"sk-item\"><div class=\"sk-estimator sk-toggleable\"><input class=\"sk-toggleable__control sk-hidden--visually\" id=\"sk-estimator-id-3\" type=\"checkbox\" ><label for=\"sk-estimator-id-3\" class=\"sk-toggleable__label sk-toggleable__label-arrow\">SVC</label><div class=\"sk-toggleable__content\"><pre>SVC(class_weight=&#x27;balanced&#x27;)</pre></div></div></div></div></div></div></div>"
      ],
      "text/plain": [
       "Pipeline(steps=[('standardscaler', StandardScaler()),\n",
       "                ('svc', SVC(class_weight='balanced'))])"
      ]
     },
     "execution_count": 23,
     "metadata": {},
     "output_type": "execute_result"
    }
   ],
   "source": [
    "# import SVM classifier code\n",
    "from sklearn.svm import SVC\n",
    "from sklearn.pipeline import make_pipeline\n",
    "from sklearn.preprocessing import StandardScaler\n",
    "\n",
    "\n",
    "# Initialize a support vector machine, with class_weight='balanced' because\n",
    "# our training set has roughly an equal amount of positive and negative\n",
    "# sentiment sentences\n",
    "svm_classifier = make_pipeline(StandardScaler(), SVC(class_weight='balanced'))\n",
    "\n",
    "# fit the support vector machine\n",
    "svm_classifier.fit(embeddings_train, labels_train)\n"
   ]
  },
  {
   "cell_type": "code",
   "execution_count": 24,
   "metadata": {},
   "outputs": [
    {
     "name": "stdout",
     "output_type": "stream",
     "text": [
      "Validation accuracy on Large is 66.66666666666666%!\n"
     ]
    }
   ],
   "source": [
    "# get the score from the test set, and print it out to screen!\n",
    "score = svm_classifier.score(embeddings_test, labels_test)\n",
    "print(f\"Validation accuracy on Large is {100*score}%!\")\n"
   ]
  },
  {
   "cell_type": "markdown",
   "metadata": {},
   "source": [
    "Validation accuracy on Large is 66.7%!\n",
    "This was a small scale example, meant as a proof of concept and designed to illustrate how you can build a custom classifier quickly using a small amount of labelled data and Cohere's embeddings. Increase the number of training examples to achieve better performance on this task."
   ]
  },
  {
   "cell_type": "code",
   "execution_count": 29,
   "metadata": {},
   "outputs": [
    {
     "name": "stdout",
     "output_type": "stream",
     "text": [
      "The confidence levels of the labels are: [cohere.Classification {\n",
      "\tinput: Am I still able to return my order?\n",
      "\tprediction: Start return or exchange\n",
      "\tconfidence: [cohere.Confidence {\n",
      "\tlabel: Shipping and handling policy\n",
      "\tconfidence: 0.22736539\n",
      "}, cohere.Confidence {\n",
      "\tlabel: Start return or exchange\n",
      "\tconfidence: 0.60092175\n",
      "}, cohere.Confidence {\n",
      "\tlabel: Track order\n",
      "\tconfidence: 0.17171283\n",
      "}]\n",
      "}, cohere.Classification {\n",
      "\tinput: When can I expect my package?\n",
      "\tprediction: Track order\n",
      "\tconfidence: [cohere.Confidence {\n",
      "\tlabel: Shipping and handling policy\n",
      "\tconfidence: 0.24907826\n",
      "}, cohere.Confidence {\n",
      "\tlabel: Start return or exchange\n",
      "\tconfidence: 0.27320468\n",
      "}, cohere.Confidence {\n",
      "\tlabel: Track order\n",
      "\tconfidence: 0.47771704\n",
      "}]\n",
      "}]\n"
     ]
    }
   ],
   "source": [
    "import cohere\n",
    "from cohere.classify import Example\n",
    "response = co.classify(\n",
    "    model='medium',\n",
    "    inputs=[\"Am I still able to return my order?\",\n",
    "            \"When can I expect my package?\"],\n",
    "    examples=[Example(\"Do you offer same day shipping?\", \"Shipping and handling policy\"), Example(\"Can you ship to Italy?\", \"Shipping and handling policy\"), Example(\"How long does shipping take?\", \"Shipping and handling policy\"), Example(\"Can I buy online and pick up in store?\", \"Shipping and handling policy\"), Example(\"What are your shipping options?\", \"Shipping and handling policy\"), Example(\"My order arrived damaged, can I get a refund?\", \"Start return or exchange\"), Example(\"You sent me the wrong item\", \"Start return or exchange\"), Example(\"I want to exchange my item for another colour\", \"Start return or exchange\"), Example(\"I ordered something and it wasn’t what I expected. Can I return it?\", \"Start return or exchange\"), Example(\"What’s your return policy?\", \"Start return or exchange\"), Example(\"Where’s my package?\", \"Track order\"), Example(\"When will my order arrive?\", \"Track order\"), Example(\"What’s my shipping number?\", \"Track order\"), Example(\"Which carrier is my package with?\", \"Track order\"), Example(\"Is my package delayed?\", \"Track order\")])\n",
    "print('The confidence levels of the labels are: {}'.format(response.classifications))\n"
   ]
  },
  {
   "cell_type": "code",
   "execution_count": 3,
   "metadata": {},
   "outputs": [
    {
     "name": "stdout",
     "output_type": "stream",
     "text": [
      "The confidence levels of the labels are: [cohere.Classification {\n",
      "\tinput: Any decent trader spends 90% of their efforts exploring how they could be wrong. That should apply to everyone’s decision making.\n",
      "\tprediction: Business news\n",
      "\tconfidence: [cohere.Confidence {\n",
      "\tlabel: Business news\n",
      "\tconfidence: 0.8030835\n",
      "}, cohere.Confidence {\n",
      "\tlabel: Cooking\n",
      "\tconfidence: 0.0006364698\n",
      "}, cohere.Confidence {\n",
      "\tlabel: Arts & Culture\n",
      "\tconfidence: 0.19628008\n",
      "}]\n",
      "}, cohere.Classification {\n",
      "\tinput: Congratulations to all of this years @OliverAwards winners!\n",
      "\tprediction: Arts & Culture\n",
      "\tconfidence: [cohere.Confidence {\n",
      "\tlabel: Business news\n",
      "\tconfidence: 0.19653323\n",
      "}, cohere.Confidence {\n",
      "\tlabel: Cooking\n",
      "\tconfidence: 0.0039493362\n",
      "}, cohere.Confidence {\n",
      "\tlabel: Arts & Culture\n",
      "\tconfidence: 0.79951745\n",
      "}]\n",
      "}]\n"
     ]
    }
   ],
   "source": [
    "import cohere\n",
    "from cohere.classify import Example\n",
    "\n",
    "response = co.classify(\n",
    "    model='large',\n",
    "    inputs=[\"Any decent trader spends 90% of their efforts exploring how they could be wrong. That should apply to everyone’s decision making.\",\n",
    "            \"Congratulations to all of this years @OliverAwards winners!\"],\n",
    "    examples=[Example(\"Elon Musk says Twitter Blue subscribers should be able to pay with dogecoin\", \"Business news\"), Example(\"Probability of a US recession in the next 12 months, via WSJ\", \"Business news\"), Example(\"European futures slide\", \"Business news\"), Example(\"NASDAQ rises 2% to ATH\", \"Business news\"), Example(\"FTX Founder is one of the world\\'s richest crypto billionaires, with a fortune valued at $20 billion.\", \"Business news\"), Example(\"Sweet Potato Macaroni Cheese is #RecipeOfTheDay, and I’m very happy about it!\", \"Cooking\"), Example(\"3-Ingredient Slow Cooker recipes\", \"Cooking\"), Example(\"This is by far the BEST biscuit recipe I’ve ever tried\", \"Cooking\"), Example(\"Baking my first loaf of banana bread...\", \"Cooking\"), Example(\"From the queen of Italian cooking, this is one of the most iconic tomato sauce recipes ever\", \"Cooking\"), Example(\"I’ve actually read this book and it was extremely insightful. A quick read as well and available as a free audiobook through many libraries.\", \"Arts & Culture\"), Example(\"Today’s Daily Cartoon\", \"Arts & Culture\"), Example(\"Get a glimpse of the stage adaptation of Hayao Miyazaki’s 2001 Oscar-winning animated feature Spirited Away\", \"Arts & Culture\"), Example(\"The #Banksy Exhibit in Cambridge, MA is absolutely terrific.\", \"Arts & Culture\"), Example(\"“A Whisper in Time” large abstract paining 48’ x 48’\", \"Arts & Culture\")])\n",
    "print('The confidence levels of the labels are: {}'.format(response.classifications))\n"
   ]
  }
 ],
 "metadata": {
  "kernelspec": {
   "display_name": "Python 3.10.5 ('10A')",
   "language": "python",
   "name": "python3"
  },
  "language_info": {
   "codemirror_mode": {
    "name": "ipython",
    "version": 3
   },
   "file_extension": ".py",
   "mimetype": "text/x-python",
   "name": "python",
   "nbconvert_exporter": "python",
   "pygments_lexer": "ipython3",
   "version": "3.10.5"
  },
  "orig_nbformat": 4,
  "vscode": {
   "interpreter": {
    "hash": "2be9f4616ca1b5198a62cd2082c7feed2682666a7b8fb219311f5849134be0bf"
   }
  }
 },
 "nbformat": 4,
 "nbformat_minor": 2
}
