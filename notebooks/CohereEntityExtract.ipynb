{
 "cells": [
  {
   "cell_type": "markdown",
   "metadata": {},
   "source": []
  },
  {
   "cell_type": "markdown",
   "metadata": {},
   "source": [
    "# 1. Get the packages"
   ]
  },
  {
   "cell_type": "code",
   "execution_count": 37,
   "metadata": {},
   "outputs": [],
   "source": [
    "import cohere\n",
    "import sys,os\n",
    "import pandas as pd\n",
    "import requests\n",
    "import datetime\n",
    "from tqdm import tqdm"
   ]
  },
  {
   "cell_type": "code",
   "execution_count": 42,
   "metadata": {},
   "outputs": [],
   "source": [
    "sys.path.append(os.path.abspath(os.path.join(\"../scripts\")))\n",
    "from preprocess import Preporcess\n",
    "from prompt_generation import cohereExtractor\n",
    "from prompt_preprocess import TestPreprocess\n",
    "\n",
    "prompt_prp = TestPreprocess()\n",
    "prp = Preporcess()\n"
   ]
  },
  {
   "cell_type": "markdown",
   "metadata": {},
   "source": [
    "# 2. Get the Data"
   ]
  },
  {
   "cell_type": "code",
   "execution_count": 43,
   "metadata": {},
   "outputs": [],
   "source": [
    "from cgi import test\n",
    "\n",
    "train_df = pd.read_json('../data/entity/relations_training.txt')\n",
    "test_df = pd.read_json('../data/entity/relations_test.txt') \n"
   ]
  },
  {
   "cell_type": "code",
   "execution_count": 44,
   "metadata": {},
   "outputs": [],
   "source": [
    "train_df['label'] = train_df['tokens'].apply(prp.preprocess_tokens)\n",
    "test_df['label'] = test_df['tokens'].apply(prp.preprocess_tokens)\n"
   ]
  },
  {
   "cell_type": "code",
   "execution_count": 45,
   "metadata": {},
   "outputs": [
    {
     "data": {
      "text/html": [
       "<div>\n",
       "<style scoped>\n",
       "    .dataframe tbody tr th:only-of-type {\n",
       "        vertical-align: middle;\n",
       "    }\n",
       "\n",
       "    .dataframe tbody tr th {\n",
       "        vertical-align: top;\n",
       "    }\n",
       "\n",
       "    .dataframe thead th {\n",
       "        text-align: right;\n",
       "    }\n",
       "</style>\n",
       "<table border=\"1\" class=\"dataframe\">\n",
       "  <thead>\n",
       "    <tr style=\"text-align: right;\">\n",
       "      <th></th>\n",
       "      <th>document</th>\n",
       "      <th>tokens</th>\n",
       "      <th>relations</th>\n",
       "      <th>label</th>\n",
       "    </tr>\n",
       "  </thead>\n",
       "  <tbody>\n",
       "    <tr>\n",
       "      <th>0</th>\n",
       "      <td>\\nCurrently holding a faculty, industry, or go...</td>\n",
       "      <td>[{'text': 'Ph.D.', 'start': 75, 'end': 80, 'to...</td>\n",
       "      <td>[{'child': 18, 'head': 14, 'relationLabel': 'D...</td>\n",
       "      <td>DIPLOMA:Ph.D.\\nDIPLOMA_MAJOR:machine learning,...</td>\n",
       "    </tr>\n",
       "    <tr>\n",
       "      <th>1</th>\n",
       "      <td>\\n2+ years experience in the online advertisin...</td>\n",
       "      <td>[{'text': '2+ years', 'start': 1, 'end': 9, 't...</td>\n",
       "      <td>[{'child': 7, 'head': 1, 'relationLabel': 'EXP...</td>\n",
       "      <td>EXPERIENCE:2+ years\\nSKILLS:online advertising...</td>\n",
       "    </tr>\n",
       "    <tr>\n",
       "      <th>2</th>\n",
       "      <td>\\nBA/BS\\n5+ years of program or project manage...</td>\n",
       "      <td>[{'text': '5+ years', 'start': 7, 'end': 15, '...</td>\n",
       "      <td>[{'child': 11, 'head': 5, 'relationLabel': 'EX...</td>\n",
       "      <td>EXPERIENCE:5+ years,2+ years\\nSKILLS:project m...</td>\n",
       "    </tr>\n",
       "    <tr>\n",
       "      <th>3</th>\n",
       "      <td>\\nCurrently enrolled in a full-time degree pro...</td>\n",
       "      <td>[{'text': 'Ph.D.', 'start': 801, 'end': 806, '...</td>\n",
       "      <td>[{'child': 140, 'head': 137, 'relationLabel': ...</td>\n",
       "      <td>DIPLOMA:Ph.D.\\nDIPLOMA_MAJOR:Computer Science\\n</td>\n",
       "    </tr>\n",
       "    <tr>\n",
       "      <th>4</th>\n",
       "      <td>\\nCurrently enrolled in a full-time degree pro...</td>\n",
       "      <td>[{'text': 'Ph.D.', 'start': 801, 'end': 806, '...</td>\n",
       "      <td>[{'child': 140, 'head': 137, 'relationLabel': ...</td>\n",
       "      <td>DIPLOMA:Ph.D.\\nDIPLOMA_MAJOR:Computer Science\\n</td>\n",
       "    </tr>\n",
       "    <tr>\n",
       "      <th>5</th>\n",
       "      <td>\\nMS in a quantitative field such as Operation...</td>\n",
       "      <td>[{'text': 'MS', 'start': 1, 'end': 3, 'token_s...</td>\n",
       "      <td>[{'child': 8, 'head': 1, 'relationLabel': 'DEG...</td>\n",
       "      <td>DIPLOMA:MS,PhD\\nDIPLOMA_MAJOR:Operations Resea...</td>\n",
       "    </tr>\n",
       "    <tr>\n",
       "      <th>6</th>\n",
       "      <td>\\nPh.D. with 5+ years of experience, MS with 7...</td>\n",
       "      <td>[]</td>\n",
       "      <td>[]</td>\n",
       "      <td></td>\n",
       "    </tr>\n",
       "    <tr>\n",
       "      <th>7</th>\n",
       "      <td>\\nGraduating with a Ph.D. in Computer Science ...</td>\n",
       "      <td>[{'text': 'Ph.D.', 'start': 19, 'end': 24, 'to...</td>\n",
       "      <td>[{'child': 6, 'head': 4, 'relationLabel': 'DEG...</td>\n",
       "      <td>DIPLOMA:Ph.D.\\nDIPLOMA_MAJOR:Computer Science\\n</td>\n",
       "    </tr>\n",
       "    <tr>\n",
       "      <th>8</th>\n",
       "      <td>\\n12+ years of research experience, in-house o...</td>\n",
       "      <td>[{'text': '12+ years', 'start': 1, 'end': 10, ...</td>\n",
       "      <td>[{'child': 5, 'head': 1, 'relationLabel': 'EXP...</td>\n",
       "      <td>EXPERIENCE:12+ years\\nSKILLS:research,Ph.D\\nDI...</td>\n",
       "    </tr>\n",
       "    <tr>\n",
       "      <th>9</th>\n",
       "      <td>\\nPhD with 3+ years, or MS with 5+ years of ex...</td>\n",
       "      <td>[{'text': '5+ years', 'start': 31, 'end': 39, ...</td>\n",
       "      <td>[{'child': 18, 'head': 10, 'relationLabel': 'E...</td>\n",
       "      <td>EXPERIENCE:5+ years,3+ years,3+ years,5+ years...</td>\n",
       "    </tr>\n",
       "    <tr>\n",
       "      <th>10</th>\n",
       "      <td>\\nCurrently holding a faculty, industry, or go...</td>\n",
       "      <td>[{'text': 'Ph.D.', 'start': 75, 'end': 80, 'to...</td>\n",
       "      <td>[{'child': 18, 'head': 14, 'relationLabel': 'D...</td>\n",
       "      <td>DIPLOMA:Ph.D.\\nDIPLOMA_MAJOR:machine learning,...</td>\n",
       "    </tr>\n",
       "  </tbody>\n",
       "</table>\n",
       "</div>"
      ],
      "text/plain": [
       "                                             document  \\\n",
       "0   \\nCurrently holding a faculty, industry, or go...   \n",
       "1   \\n2+ years experience in the online advertisin...   \n",
       "2   \\nBA/BS\\n5+ years of program or project manage...   \n",
       "3   \\nCurrently enrolled in a full-time degree pro...   \n",
       "4   \\nCurrently enrolled in a full-time degree pro...   \n",
       "5   \\nMS in a quantitative field such as Operation...   \n",
       "6   \\nPh.D. with 5+ years of experience, MS with 7...   \n",
       "7   \\nGraduating with a Ph.D. in Computer Science ...   \n",
       "8   \\n12+ years of research experience, in-house o...   \n",
       "9   \\nPhD with 3+ years, or MS with 5+ years of ex...   \n",
       "10  \\nCurrently holding a faculty, industry, or go...   \n",
       "\n",
       "                                               tokens  \\\n",
       "0   [{'text': 'Ph.D.', 'start': 75, 'end': 80, 'to...   \n",
       "1   [{'text': '2+ years', 'start': 1, 'end': 9, 't...   \n",
       "2   [{'text': '5+ years', 'start': 7, 'end': 15, '...   \n",
       "3   [{'text': 'Ph.D.', 'start': 801, 'end': 806, '...   \n",
       "4   [{'text': 'Ph.D.', 'start': 801, 'end': 806, '...   \n",
       "5   [{'text': 'MS', 'start': 1, 'end': 3, 'token_s...   \n",
       "6                                                  []   \n",
       "7   [{'text': 'Ph.D.', 'start': 19, 'end': 24, 'to...   \n",
       "8   [{'text': '12+ years', 'start': 1, 'end': 10, ...   \n",
       "9   [{'text': '5+ years', 'start': 31, 'end': 39, ...   \n",
       "10  [{'text': 'Ph.D.', 'start': 75, 'end': 80, 'to...   \n",
       "\n",
       "                                            relations  \\\n",
       "0   [{'child': 18, 'head': 14, 'relationLabel': 'D...   \n",
       "1   [{'child': 7, 'head': 1, 'relationLabel': 'EXP...   \n",
       "2   [{'child': 11, 'head': 5, 'relationLabel': 'EX...   \n",
       "3   [{'child': 140, 'head': 137, 'relationLabel': ...   \n",
       "4   [{'child': 140, 'head': 137, 'relationLabel': ...   \n",
       "5   [{'child': 8, 'head': 1, 'relationLabel': 'DEG...   \n",
       "6                                                  []   \n",
       "7   [{'child': 6, 'head': 4, 'relationLabel': 'DEG...   \n",
       "8   [{'child': 5, 'head': 1, 'relationLabel': 'EXP...   \n",
       "9   [{'child': 18, 'head': 10, 'relationLabel': 'E...   \n",
       "10  [{'child': 18, 'head': 14, 'relationLabel': 'D...   \n",
       "\n",
       "                                                label  \n",
       "0   DIPLOMA:Ph.D.\\nDIPLOMA_MAJOR:machine learning,...  \n",
       "1   EXPERIENCE:2+ years\\nSKILLS:online advertising...  \n",
       "2   EXPERIENCE:5+ years,2+ years\\nSKILLS:project m...  \n",
       "3     DIPLOMA:Ph.D.\\nDIPLOMA_MAJOR:Computer Science\\n  \n",
       "4     DIPLOMA:Ph.D.\\nDIPLOMA_MAJOR:Computer Science\\n  \n",
       "5   DIPLOMA:MS,PhD\\nDIPLOMA_MAJOR:Operations Resea...  \n",
       "6                                                      \n",
       "7     DIPLOMA:Ph.D.\\nDIPLOMA_MAJOR:Computer Science\\n  \n",
       "8   EXPERIENCE:12+ years\\nSKILLS:research,Ph.D\\nDI...  \n",
       "9   EXPERIENCE:5+ years,3+ years,3+ years,5+ years...  \n",
       "10  DIPLOMA:Ph.D.\\nDIPLOMA_MAJOR:machine learning,...  "
      ]
     },
     "execution_count": 45,
     "metadata": {},
     "output_type": "execute_result"
    }
   ],
   "source": [
    "test_df"
   ]
  },
  {
   "cell_type": "markdown",
   "metadata": {},
   "source": [
    "# 3. preprocess the data"
   ]
  },
  {
   "cell_type": "code",
   "execution_count": 20,
   "metadata": {},
   "outputs": [
    {
     "name": "stdout",
     "output_type": "stream",
     "text": [
      "Done\n"
     ]
    }
   ],
   "source": [
    "\n",
    "train_doc = []\n",
    "for i in range(train_df.shape[0]):\n",
    "    ent = train_df.label.iloc[i]\n",
    "    docu = train_df.document.iloc[i].replace(\"\\n\",\" \")\n",
    "    if len(ent)!=0:\n",
    "        train_doc.append(docu+\"\\n\\nExtracted Text:\" +\n",
    "                        '\\n'+ent+\"---\\n\")\n",
    "    \n"
   ]
  },
  {
   "cell_type": "code",
   "execution_count": 46,
   "metadata": {},
   "outputs": [
    {
     "name": "stdout",
     "output_type": "stream",
     "text": [
      "Done\n"
     ]
    }
   ],
   "source": [
    "train_doc = prp.preprocess_document(train_df)\n",
    "\n",
    "with open('../data/output/entity.txt', 'w') as f:\n",
    "    for item in train_doc:\n",
    "        # write each item on a new line\n",
    "        f.write(\"%s\\n\" % item.strip())\n",
    "    print('Done')\n"
   ]
  },
  {
   "cell_type": "code",
   "execution_count": 47,
   "metadata": {},
   "outputs": [],
   "source": [
    "\n",
    "test_doc = prompt_prp.entity_extraction(test_df)\n",
    "\n",
    "# test_df.document.apply(\n",
    "    # lambda x: x.replace(\"\\n\", \" \")+'\\n\\nExtracted Text:').to_list()\n"
   ]
  },
  {
   "cell_type": "code",
   "execution_count": 48,
   "metadata": {},
   "outputs": [],
   "source": [
    "import cohere\n",
    "api_key = pd.read_json(\"../config/apikey.json\")['cohere_key'][0]\n",
    "co = cohere.Client(api_key)\n"
   ]
  },
  {
   "cell_type": "markdown",
   "metadata": {},
   "source": [
    "# 4. Running the model"
   ]
  },
  {
   "cell_type": "code",
   "execution_count": 50,
   "metadata": {},
   "outputs": [],
   "source": [
    "cohereMovieExtractor = cohereExtractor(train_doc[:6],co)\n"
   ]
  },
  {
   "cell_type": "code",
   "execution_count": 51,
   "metadata": {},
   "outputs": [
    {
     "name": "stdout",
     "output_type": "stream",
     "text": [
      "MS/Ph.D. in CS/EE or related areas is required. Strong ability and effectiveness working in a significant technical problem domain, in the term of plan, design, execution, continuous release and service operation. Strong software engineering fundamentals, including coding, problem solving and data analysis skills. Background in machine learning/deep learning (strongly preferred). Passionate and self-motivated. Ability to effectively work in collaborative multiple project team environment and ship production features in a fast-paced environment. Good communication skills, both verbal and written. Customer/end result/Metrics driven in design and development. Strong ability in self-learning, entering new domain, managing through uncertainty in an innovative team environment\n",
      "\n",
      "Extracted Text:\n",
      "DIPLOMA:MS/Ph.D.\n",
      "DIPLOMA_MAJOR:CS/EE\n",
      "----\n",
      "1+ years development experience on Java stack AppConnect / API's experience is added advantage. Compute, Network and Storage Monitoring Tools (Ex: Netcool) Application Performance Tools (IBM APM) Cloud operations and Automation Tools (VmWare, ICAM, ...) Proven Record of developing enterprise class products and applications. Preferred Tech and Prof Experience None EO Statement IBM is committed to creating a diverse environment and is proud to be an equal opportunity employer. All qualified applicants will receive consideration for employment without regard to race, color, religion, gender, gender identity or expression, sexual orientation, national origin, genetics, disability, age, or veteran status. IBM is also committed to compliance with all fair employment practices regarding citizenship and immigration status. .\n",
      "\n",
      "Extracted Text:\n",
      "EXPERIENCE:1+ years\n",
      "SKILLS:development\n",
      "----\n",
      "Flexibility to work in an Agile or Iterative development model Knowledge, skills, training and experience in software-intensive systems; Knowledge, skills, training, and experience in software requirements and design engineering skills using a well-defined disciplined engineering process or methodology; Familiarity with Microsoft Office or other office automation/productivity software tools; Experience with modeling tools is highly recommended; Excellent oral and written communication skills; Experience with customer interaction; Experience in Healthcare Information Systems, Electronic Medical Records, Practice Management, HL7, ANSI Standards 837/835/277/276/270/271 Experience with DICOM is an asset Experience with imaging workflow is an asset Design pattern experience a plus Preferred Tech and Prof Experience An undergraduate degree or better in computer science or equivalent discipline or equivalent level of industry related experience; 3+ years of related experience in software development. EO Statement IBM is committed to creating a diverse environment and is proud to be an equal opportunity employer. All qualified applicants will receive consideration for employment without regard to race, color, religion, gender, gender identity or expression, sexual orientation, national origin, genetics, disability, age, or veteran status. IBM is also committed to compliance with all fair employment practices regarding citizenship and immigration status. .\n",
      "\n",
      "Extracted Text:\n",
      "EXPERIENCE:3+ years\n",
      "SKILLS:software development\n",
      "DIPLOMA:undergraduate\n",
      "DIPLOMA_MAJOR:computer science\n",
      "----\n",
      "Education & Experience Requirements: 3 to 6 years Capacity Planning and Supply planning experience (i.e., supply-demand balancing, constrained supply planning). BS degree in Engineering, Operations, Business, or other related quantitative disciplines Preferred: Strong aptitude for analytic thinking and solution development. Strong problem solving and negotiation skills. Experience in Sales & Operations Planning and processes preferred Familiarity with forecasting and statistical concepts. Proven capabilities to drive positive business results through cross-group collaboration and partnerships. Excellent communicator (written and verbal) with ability to create and deliver executive friendly communications on complex product, business, and supply chain topics. Ability to interact with diverse technical and non-technical groups spanning all organizational levels. Ability to deliver results in an ambiguous and evolving business environment. Ability to meet Microsoft, customer and/or government security screening requirements are required for this role. These requirements include, but are not limited to the following specialized security screenings: Microsoft Cloud Background Check: This position will be required to pass the Microsoft Cloud Background Check upon hire/transfer and every two years thereafter.\n",
      "\n",
      "Extracted Text:\n",
      "EXPERIENCE:3 to 6 years\n",
      "SKILLS:Capacity Planning,Supply planning,i.e.,supply-demand balancing,supply planning\n",
      "DIPLOMA:BS\n",
      "DIPLOMA_MAJOR:Engineering,Operations,Business\n",
      "----\n",
      "3-5 years of experience with integration product development and integration. Proven experience in Java,XML,XSLT, Javascript, J2EE, Oracle/DB2, Websphere/Weblogic, Struts, MQ Complex designs and development. ProvenExperience in JavaScript based UI development including Dojo, JQuery, Angular and Node JS. Experience in Docker, Jenkins, Git, Jira, JUnit. Fundamentals in algorithm design, problem solving, and complexity analysis Knowledge/Experience of full software development process, including coding standards, code reviews, source control management, build processes, testing, and operations Preferred Tech and Prof Experience Proven ability to work effectively in a multi-functional team B2B Domain experience with various standards such as AS2, RNIF, EBICS, SWIFT (will be an added advantage) EO Statement IBM is committed to creating a diverse environment and is proud to be an equal opportunity employer. All qualified applicants will receive consideration for employment without regard to race, color, religion, gender, gender identity or expression, sexual orientation, national origin, genetics, disability, age, or veteran status. IBM is also committed to compliance with all fair employment practices regarding citizenship and immigration status. .\n",
      "\n",
      "Extracted Text:\n",
      "EXPERIENCE:3-5 years\n",
      "SKILLS:integration,development,integration\n",
      "----\n",
      "Must obtain work authorization in country of employment at the time of hire, and maintain ongoing work authorization during employment Must be currently enrolled in a full-time degree program and returning to the program after the completion of the internship/co-op Pursuing a PhD in Acoustics, Mechanical Engineering, Physics, or related STEM fields. Currently enrolled in a full time degree program and returning to the program after the completion of the internship. Strong interpersonal skills: cross-group and cross-culture collaboration. Able to obtain work authorization in the U.S. between January 1, 2019 and December 31, 2019. PREFERRED Previous internship or work experience in audio, acoustics, or related field. Proven track record of research publications and conference presentations. Experience with experiment design, data collection, data processing and visualization. Creativity and novel problem solving capability.\n",
      "\n",
      "Extracted Text:\n",
      "DIPLOMA:PhD\n",
      "DIPLOMA_MAJOR:Acoustics,Mechanical Engineering,Physics,STEM\n",
      "----\n",
      " Currently holding a faculty, industry, or government researcher position. Ph.D. and publications in machine learning, AI, computer science, statistics, applied mathematics, data science, or related technical fields. Experience leading a team in solving analytical problems using quantitative approaches. Experience solving analytical problems using quantitative approaches. Experience manipulating and analyzing data from different sources. Experience in theoretical and empirical research and for answering questions with research. Ability to communicate research. Knowledge in some programming language. Traduction franaise -  minimales: Occuper actuellement un poste de chercheur dans une facult, une industrie ou un gouvernement. Doctorat et des publications sur l'apprentissage automatique, l'intelligence artificielle, l'informatique, les statistiques, les mathmatiques appliques, la science des donnes ou des domaines techniques connexes. Exprience de la direction dune quipe dans la rsolution de problmes analytiques  laide dapproches quantitatives. Exprience en manipulation et analyse de donnes provenant de diffrentes sources. Rpondre  des questions avec la recherche capacit  communiquer la recherche. Connaissances dans certains langages de programmation.  PREFERRED  1+ year(s) of work experience in within a university, industry, or government lab(s), in a role with primary emphasis on AI research. Experience driving original scholarship in collaboration with a team. First-author publications at peer-reviewed AI conferences (e.g. NIPS, CVPR, ICML, ICLR, ICCV, and ACL). Experience in developing and debugging in C/C++, Python, C# and/or Java. Traduction franaise -  prfres: 1 an ou plus d'exprience de travail dans une universit, une industrie ou un laboratoire gouvernemental, dans un rle principalement ax sur la recherche sur l'IA. Exprience de la conduite de la bourse originale en collaboration avec une quipe. Publications du premier auteur lors de confrences sur lIA examines par des pairs (par exemple NIPS, CVPR, ICML, ICLR, ICCV et ACL). Exprience dans le dveloppement et le dbogage en C / C ++, Python, C # et / ou Java.\n",
      "\n",
      "Extracted Text:\n"
     ]
    }
   ],
   "source": [
    "print(cohereMovieExtractor.make_prompt(test_doc[-1]))\n"
   ]
  },
  {
   "cell_type": "code",
   "execution_count": 52,
   "metadata": {},
   "outputs": [
    {
     "name": "stderr",
     "output_type": "stream",
     "text": [
      "  9%|▉         | 1/11 [00:04<00:49,  4.93s/it]"
     ]
    },
    {
     "name": "stdout",
     "output_type": "stream",
     "text": [
      "\n",
      "DIPLOMA:PhD\n",
      "DIPLOMA_MAJOR:Machine Learning,AI,Computer Science,Statistics,Applied Mathematics,Data Science,Quantitative\n",
      "---\n"
     ]
    },
    {
     "name": "stderr",
     "output_type": "stream",
     "text": [
      " 18%|█▊        | 2/11 [00:08<00:37,  4.22s/it]"
     ]
    },
    {
     "name": "stdout",
     "output_type": "stream",
     "text": [
      "\n",
      "DIPLOMA:Masters,MBA\n",
      "DIPLOMA_MAJOR:Statistics,Political Science,History,Psychology\n",
      "---\n"
     ]
    },
    {
     "name": "stderr",
     "output_type": "stream",
     "text": [
      " 27%|██▋       | 3/11 [00:12<00:30,  3.87s/it]"
     ]
    },
    {
     "name": "stdout",
     "output_type": "stream",
     "text": [
      "\n",
      "DIPLOMA:BA/BS\n",
      "DIPLOMA_MAJOR:Program Management\n",
      "---\n"
     ]
    },
    {
     "name": "stderr",
     "output_type": "stream",
     "text": [
      " 36%|███▋      | 4/11 [00:16<00:27,  3.93s/it]"
     ]
    },
    {
     "name": "stdout",
     "output_type": "stream",
     "text": [
      "\n",
      "EXPERIENCE:2-3 years\n",
      "SKILLS:research,data science,machine learning,deep learning,computer vision,natural language processing,optimization,computer science,statistics,applied mathematics,data science\n",
      "DIPLOMA:PhD\n",
      "DIPLOMA_MAJOR:Computer Science\n",
      "---\n"
     ]
    },
    {
     "name": "stderr",
     "output_type": "stream",
     "text": [
      " 45%|████▌     | 5/11 [00:19<00:23,  3.89s/it]"
     ]
    },
    {
     "name": "stdout",
     "output_type": "stream",
     "text": [
      "\n",
      "DIPLOMA:PhD\n",
      "DIPLOMA_MAJOR:Computer Science\n",
      "---\n"
     ]
    },
    {
     "name": "stderr",
     "output_type": "stream",
     "text": [
      " 55%|█████▍    | 6/11 [00:29<00:29,  5.90s/it]"
     ]
    },
    {
     "name": "stdout",
     "output_type": "stream",
     "text": [
      "\n",
      "EXPERIENCE:7+ years\n",
      "SKILLS:statistics,algorithms,optimization\n",
      "DIPLOMA:MS\n",
      "DIPLOMA_MAJOR:Math,Physics\n",
      "---\n"
     ]
    },
    {
     "name": "stderr",
     "output_type": "stream",
     "text": [
      " 64%|██████▎   | 7/11 [00:33<00:21,  5.25s/it]"
     ]
    },
    {
     "name": "stdout",
     "output_type": "stream",
     "text": [
      "\n",
      "EXPERIENCE:5+ years\n",
      "SKILLS:Physics,Electrical Engineering,Computer Science,ML/AI\n",
      "DIPLOMA:PhD\n",
      "DIPLOMA_MAJOR:Physics\n",
      "---\n"
     ]
    },
    {
     "name": "stderr",
     "output_type": "stream",
     "text": [
      " 73%|███████▎  | 8/11 [00:37<00:14,  4.76s/it]"
     ]
    },
    {
     "name": "stdout",
     "output_type": "stream",
     "text": [
      "\n",
      "DIPLOMA:PhD\n",
      "DIPLOMA_MAJOR:Computer Science\n",
      "---\n"
     ]
    },
    {
     "name": "stderr",
     "output_type": "stream",
     "text": [
      " 82%|████████▏ | 9/11 [00:41<00:09,  4.51s/it]"
     ]
    },
    {
     "name": "stdout",
     "output_type": "stream",
     "text": [
      "\n",
      "EXPERIENCE:12+ years\n",
      "SKILLS:research experience,in-house,vendor,applicable consulting experience\n",
      "DIPLOMA:PhD\n",
      "DIPLOMA_MAJOR:Human-computer interaction,Human factors,cognitive psychology\n",
      "---\n"
     ]
    },
    {
     "name": "stderr",
     "output_type": "stream",
     "text": [
      " 91%|█████████ | 10/11 [00:45<00:04,  4.31s/it]"
     ]
    },
    {
     "name": "stdout",
     "output_type": "stream",
     "text": [
      "\n",
      "EXPERIENCE:3+ years\n",
      "SKILLS:people research,organization\n",
      "DIPLOMA:PhD\n",
      "DIPLOMA_MAJOR:Industrial/Organizational Psychology,Organizational Behavior,Labor Economics,Management,Policy Analysis,\n",
      "---\n"
     ]
    },
    {
     "name": "stderr",
     "output_type": "stream",
     "text": [
      "100%|██████████| 11/11 [00:51<00:00,  4.67s/it]"
     ]
    },
    {
     "name": "stdout",
     "output_type": "stream",
     "text": [
      "\n",
      "EXPERIENCE:1+ years\n",
      "SKILLS:research,researcher\n",
      "---\n"
     ]
    },
    {
     "name": "stderr",
     "output_type": "stream",
     "text": [
      "\n"
     ]
    }
   ],
   "source": [
    "results = []\n",
    "for text in tqdm(test_doc):\n",
    "    try:\n",
    "        extracted_text = cohereMovieExtractor.extract(text)\n",
    "        print(extracted_text)\n",
    "        results.append(extracted_text)\n",
    "    except Exception as e:\n",
    "        print('ERROR: ', e)\n"
   ]
  },
  {
   "cell_type": "code",
   "execution_count": 53,
   "metadata": {},
   "outputs": [
    {
     "data": {
      "text/html": [
       "<div>\n",
       "<style scoped>\n",
       "    .dataframe tbody tr th:only-of-type {\n",
       "        vertical-align: middle;\n",
       "    }\n",
       "\n",
       "    .dataframe tbody tr th {\n",
       "        vertical-align: top;\n",
       "    }\n",
       "\n",
       "    .dataframe thead th {\n",
       "        text-align: right;\n",
       "    }\n",
       "</style>\n",
       "<table border=\"1\" class=\"dataframe\">\n",
       "  <thead>\n",
       "    <tr style=\"text-align: right;\">\n",
       "      <th></th>\n",
       "      <th>text</th>\n",
       "      <th>extracted_text</th>\n",
       "    </tr>\n",
       "  </thead>\n",
       "  <tbody>\n",
       "    <tr>\n",
       "      <th>0</th>\n",
       "      <td>Currently holding a faculty, industry, or gov...</td>\n",
       "      <td>\\nDIPLOMA:PhD\\nDIPLOMA_MAJOR:Machine Learning,...</td>\n",
       "    </tr>\n",
       "    <tr>\n",
       "      <th>1</th>\n",
       "      <td>2+ years experience in the online advertising...</td>\n",
       "      <td>\\nDIPLOMA:Masters,MBA\\nDIPLOMA_MAJOR:Statistic...</td>\n",
       "    </tr>\n",
       "    <tr>\n",
       "      <th>2</th>\n",
       "      <td>BA/BS 5+ years of program or project manageme...</td>\n",
       "      <td>\\nDIPLOMA:BA/BS\\nDIPLOMA_MAJOR:Program Managem...</td>\n",
       "    </tr>\n",
       "    <tr>\n",
       "      <th>3</th>\n",
       "      <td>Currently enrolled in a full-time degree prog...</td>\n",
       "      <td>\\nEXPERIENCE:2-3 years\\nSKILLS:research,data s...</td>\n",
       "    </tr>\n",
       "    <tr>\n",
       "      <th>4</th>\n",
       "      <td>Currently enrolled in a full-time degree prog...</td>\n",
       "      <td>\\nDIPLOMA:PhD\\nDIPLOMA_MAJOR:Computer Science\\...</td>\n",
       "    </tr>\n",
       "    <tr>\n",
       "      <th>5</th>\n",
       "      <td>MS in a quantitative field such as Operations...</td>\n",
       "      <td>\\nEXPERIENCE:7+ years\\nSKILLS:statistics,algor...</td>\n",
       "    </tr>\n",
       "    <tr>\n",
       "      <th>6</th>\n",
       "      <td>Ph.D. with 5+ years of experience, MS with 7+...</td>\n",
       "      <td>\\nEXPERIENCE:5+ years\\nSKILLS:Physics,Electric...</td>\n",
       "    </tr>\n",
       "    <tr>\n",
       "      <th>7</th>\n",
       "      <td>Graduating with a Ph.D. in Computer Science o...</td>\n",
       "      <td>\\nDIPLOMA:PhD\\nDIPLOMA_MAJOR:Computer Science\\...</td>\n",
       "    </tr>\n",
       "    <tr>\n",
       "      <th>8</th>\n",
       "      <td>12+ years of research experience, in-house or...</td>\n",
       "      <td>\\nEXPERIENCE:12+ years\\nSKILLS:research experi...</td>\n",
       "    </tr>\n",
       "    <tr>\n",
       "      <th>9</th>\n",
       "      <td>PhD with 3+ years, or MS with 5+ years of exp...</td>\n",
       "      <td>\\nEXPERIENCE:3+ years\\nSKILLS:people research,...</td>\n",
       "    </tr>\n",
       "    <tr>\n",
       "      <th>10</th>\n",
       "      <td>Currently holding a faculty, industry, or gov...</td>\n",
       "      <td>\\nEXPERIENCE:1+ years\\nSKILLS:research,researc...</td>\n",
       "    </tr>\n",
       "  </tbody>\n",
       "</table>\n",
       "</div>"
      ],
      "text/plain": [
       "                                                 text  \\\n",
       "0    Currently holding a faculty, industry, or gov...   \n",
       "1    2+ years experience in the online advertising...   \n",
       "2    BA/BS 5+ years of program or project manageme...   \n",
       "3    Currently enrolled in a full-time degree prog...   \n",
       "4    Currently enrolled in a full-time degree prog...   \n",
       "5    MS in a quantitative field such as Operations...   \n",
       "6    Ph.D. with 5+ years of experience, MS with 7+...   \n",
       "7    Graduating with a Ph.D. in Computer Science o...   \n",
       "8    12+ years of research experience, in-house or...   \n",
       "9    PhD with 3+ years, or MS with 5+ years of exp...   \n",
       "10   Currently holding a faculty, industry, or gov...   \n",
       "\n",
       "                                       extracted_text  \n",
       "0   \\nDIPLOMA:PhD\\nDIPLOMA_MAJOR:Machine Learning,...  \n",
       "1   \\nDIPLOMA:Masters,MBA\\nDIPLOMA_MAJOR:Statistic...  \n",
       "2   \\nDIPLOMA:BA/BS\\nDIPLOMA_MAJOR:Program Managem...  \n",
       "3   \\nEXPERIENCE:2-3 years\\nSKILLS:research,data s...  \n",
       "4   \\nDIPLOMA:PhD\\nDIPLOMA_MAJOR:Computer Science\\...  \n",
       "5   \\nEXPERIENCE:7+ years\\nSKILLS:statistics,algor...  \n",
       "6   \\nEXPERIENCE:5+ years\\nSKILLS:Physics,Electric...  \n",
       "7   \\nDIPLOMA:PhD\\nDIPLOMA_MAJOR:Computer Science\\...  \n",
       "8   \\nEXPERIENCE:12+ years\\nSKILLS:research experi...  \n",
       "9   \\nEXPERIENCE:3+ years\\nSKILLS:people research,...  \n",
       "10  \\nEXPERIENCE:1+ years\\nSKILLS:research,researc...  "
      ]
     },
     "execution_count": 53,
     "metadata": {},
     "output_type": "execute_result"
    }
   ],
   "source": [
    "pd.DataFrame(data={'text': test_doc, 'extracted_text': results})\n"
   ]
  },
  {
   "cell_type": "code",
   "execution_count": 54,
   "metadata": {},
   "outputs": [],
   "source": [
    "from concurrent.futures import ThreadPoolExecutor\n",
    "\n",
    "extracted = []\n",
    "# Run the model to extract the entities\n",
    "with ThreadPoolExecutor(max_workers=8) as executor:\n",
    "    for i in executor.map(cohereMovieExtractor.extract, test_df['document'].apply(\n",
    "            lambda x: \"Job: \"+x.replace(\"\\n\", \" \")+'\\n\\nExtracted Text:').to_list()):\n",
    "        extracted.append(str(i).strip())\n",
    "\n"
   ]
  },
  {
   "cell_type": "markdown",
   "metadata": {},
   "source": [
    "# Evaluation"
   ]
  },
  {
   "cell_type": "code",
   "execution_count": 55,
   "metadata": {},
   "outputs": [],
   "source": [
    "# Save results\n",
    "test_df['extracted_text'] = extracted\n"
   ]
  },
  {
   "cell_type": "code",
   "execution_count": 57,
   "metadata": {},
   "outputs": [],
   "source": [
    "test_df['extracted_text'] = test_df['extracted_text'].apply(prp.clean_extracted_token)\n",
    "test_df['label'] = test_df['label'].apply(prp.clean_test_token)\n"
   ]
  },
  {
   "cell_type": "code",
   "execution_count": 58,
   "metadata": {},
   "outputs": [],
   "source": [
    "from difflib import SequenceMatcher\n",
    "score = []\n",
    "for i in range(test_df.shape[0]):\n",
    "    \n",
    "    score.append(SequenceMatcher(None,test_df['label'].iloc[i],\n",
    "                          test_df['extracted_text'].iloc[i]).ratio())"
   ]
  },
  {
   "cell_type": "code",
   "execution_count": 59,
   "metadata": {},
   "outputs": [
    {
     "name": "stdout",
     "output_type": "stream",
     "text": [
      "Classification accuracy 49.329253843633055%\n"
     ]
    }
   ],
   "source": [
    "# Compare the label to the extracted text\n",
    "test_df['similarity_score'] = pd.DataFrame(score)\n",
    "\n",
    "# Print the accuracy\n",
    "print(f'Classification accuracy {test_df[\"similarity_score\"].mean() *100}%')\n"
   ]
  },
  {
   "cell_type": "code",
   "execution_count": 60,
   "metadata": {},
   "outputs": [
    {
     "data": {
      "text/html": [
       "<div>\n",
       "<style scoped>\n",
       "    .dataframe tbody tr th:only-of-type {\n",
       "        vertical-align: middle;\n",
       "    }\n",
       "\n",
       "    .dataframe tbody tr th {\n",
       "        vertical-align: top;\n",
       "    }\n",
       "\n",
       "    .dataframe thead th {\n",
       "        text-align: right;\n",
       "    }\n",
       "</style>\n",
       "<table border=\"1\" class=\"dataframe\">\n",
       "  <thead>\n",
       "    <tr style=\"text-align: right;\">\n",
       "      <th></th>\n",
       "      <th>document</th>\n",
       "      <th>tokens</th>\n",
       "      <th>relations</th>\n",
       "      <th>label</th>\n",
       "      <th>extracted_text</th>\n",
       "      <th>similarity_score</th>\n",
       "    </tr>\n",
       "  </thead>\n",
       "  <tbody>\n",
       "    <tr>\n",
       "      <th>0</th>\n",
       "      <td>\\nCurrently holding a faculty, industry, or go...</td>\n",
       "      <td>[{'text': 'Ph.D.', 'start': 75, 'end': 80, 'to...</td>\n",
       "      <td>[{'child': 18, 'head': 14, 'relationLabel': 'D...</td>\n",
       "      <td>diploma:ph.d.;diploma_major:machine learning,a...</td>\n",
       "      <td>diploma:phd;diploma_major:machine learning,ai,...</td>\n",
       "      <td>0.722581</td>\n",
       "    </tr>\n",
       "    <tr>\n",
       "      <th>1</th>\n",
       "      <td>\\n2+ years experience in the online advertisin...</td>\n",
       "      <td>[{'text': '2+ years', 'start': 1, 'end': 9, 't...</td>\n",
       "      <td>[{'child': 7, 'head': 1, 'relationLabel': 'EXP...</td>\n",
       "      <td>experience:2+ years;skills:online advertising,...</td>\n",
       "      <td>experience:2+ years;skills:online advertising,...</td>\n",
       "      <td>0.508621</td>\n",
       "    </tr>\n",
       "    <tr>\n",
       "      <th>2</th>\n",
       "      <td>\\nBA/BS\\n5+ years of program or project manage...</td>\n",
       "      <td>[{'text': '5+ years', 'start': 7, 'end': 15, '...</td>\n",
       "      <td>[{'child': 11, 'head': 5, 'relationLabel': 'EX...</td>\n",
       "      <td>experience:5+ years,2+ years;skills:project ma...</td>\n",
       "      <td>diploma:ba/bs;diploma_major:2+ years;</td>\n",
       "      <td>0.186047</td>\n",
       "    </tr>\n",
       "    <tr>\n",
       "      <th>3</th>\n",
       "      <td>\\nCurrently enrolled in a full-time degree pro...</td>\n",
       "      <td>[{'text': 'Ph.D.', 'start': 801, 'end': 806, '...</td>\n",
       "      <td>[{'child': 140, 'head': 137, 'relationLabel': ...</td>\n",
       "      <td>diploma:ph.d.;diploma_major:computer science;</td>\n",
       "      <td>diploma:phd;diploma_major:computer science;</td>\n",
       "      <td>0.977273</td>\n",
       "    </tr>\n",
       "    <tr>\n",
       "      <th>4</th>\n",
       "      <td>\\nCurrently enrolled in a full-time degree pro...</td>\n",
       "      <td>[{'text': 'Ph.D.', 'start': 801, 'end': 806, '...</td>\n",
       "      <td>[{'child': 140, 'head': 137, 'relationLabel': ...</td>\n",
       "      <td>diploma:ph.d.;diploma_major:computer science;</td>\n",
       "      <td>diploma:phd;diploma_major:computer science;</td>\n",
       "      <td>0.977273</td>\n",
       "    </tr>\n",
       "    <tr>\n",
       "      <th>5</th>\n",
       "      <td>\\nMS in a quantitative field such as Operation...</td>\n",
       "      <td>[{'text': 'MS', 'start': 1, 'end': 3, 'token_s...</td>\n",
       "      <td>[{'child': 8, 'head': 1, 'relationLabel': 'DEG...</td>\n",
       "      <td>diploma:ms,phd;diploma_major:operations resear...</td>\n",
       "      <td>diploma:ms;diploma_major:industrial engineering;</td>\n",
       "      <td>0.192771</td>\n",
       "    </tr>\n",
       "    <tr>\n",
       "      <th>6</th>\n",
       "      <td>\\nPh.D. with 5+ years of experience, MS with 7...</td>\n",
       "      <td>[]</td>\n",
       "      <td>[]</td>\n",
       "      <td></td>\n",
       "      <td>diploma:ph.d.,ms,bs;diploma_major:physics,elec...</td>\n",
       "      <td>0.000000</td>\n",
       "    </tr>\n",
       "    <tr>\n",
       "      <th>7</th>\n",
       "      <td>\\nGraduating with a Ph.D. in Computer Science ...</td>\n",
       "      <td>[{'text': 'Ph.D.', 'start': 19, 'end': 24, 'to...</td>\n",
       "      <td>[{'child': 6, 'head': 4, 'relationLabel': 'DEG...</td>\n",
       "      <td>diploma:ph.d.;diploma_major:computer science;</td>\n",
       "      <td>diploma:phd;diploma_major:computer science,rel...</td>\n",
       "      <td>0.843137</td>\n",
       "    </tr>\n",
       "    <tr>\n",
       "      <th>8</th>\n",
       "      <td>\\n12+ years of research experience, in-house o...</td>\n",
       "      <td>[{'text': '12+ years', 'start': 1, 'end': 10, ...</td>\n",
       "      <td>[{'child': 5, 'head': 1, 'relationLabel': 'EXP...</td>\n",
       "      <td>experience:12+ years;skills:research,ph.d;dipl...</td>\n",
       "      <td>experience:12+ years;skills:research experienc...</td>\n",
       "      <td>0.449198</td>\n",
       "    </tr>\n",
       "    <tr>\n",
       "      <th>9</th>\n",
       "      <td>\\nPhD with 3+ years, or MS with 5+ years of ex...</td>\n",
       "      <td>[{'text': '5+ years', 'start': 31, 'end': 39, ...</td>\n",
       "      <td>[{'child': 18, 'head': 10, 'relationLabel': 'E...</td>\n",
       "      <td>experience:5+ years,3+ years,3+ years,5+ years...</td>\n",
       "      <td>experience:3+ years;skills:people research,emp...</td>\n",
       "      <td>0.283604</td>\n",
       "    </tr>\n",
       "    <tr>\n",
       "      <th>10</th>\n",
       "      <td>\\nCurrently holding a faculty, industry, or go...</td>\n",
       "      <td>[{'text': 'Ph.D.', 'start': 75, 'end': 80, 'to...</td>\n",
       "      <td>[{'child': 18, 'head': 14, 'relationLabel': 'D...</td>\n",
       "      <td>diploma:ph.d.;diploma_major:machine learning,a...</td>\n",
       "      <td>experience:1+ year(s);skills:research,ai,machi...</td>\n",
       "      <td>0.285714</td>\n",
       "    </tr>\n",
       "  </tbody>\n",
       "</table>\n",
       "</div>"
      ],
      "text/plain": [
       "                                             document  \\\n",
       "0   \\nCurrently holding a faculty, industry, or go...   \n",
       "1   \\n2+ years experience in the online advertisin...   \n",
       "2   \\nBA/BS\\n5+ years of program or project manage...   \n",
       "3   \\nCurrently enrolled in a full-time degree pro...   \n",
       "4   \\nCurrently enrolled in a full-time degree pro...   \n",
       "5   \\nMS in a quantitative field such as Operation...   \n",
       "6   \\nPh.D. with 5+ years of experience, MS with 7...   \n",
       "7   \\nGraduating with a Ph.D. in Computer Science ...   \n",
       "8   \\n12+ years of research experience, in-house o...   \n",
       "9   \\nPhD with 3+ years, or MS with 5+ years of ex...   \n",
       "10  \\nCurrently holding a faculty, industry, or go...   \n",
       "\n",
       "                                               tokens  \\\n",
       "0   [{'text': 'Ph.D.', 'start': 75, 'end': 80, 'to...   \n",
       "1   [{'text': '2+ years', 'start': 1, 'end': 9, 't...   \n",
       "2   [{'text': '5+ years', 'start': 7, 'end': 15, '...   \n",
       "3   [{'text': 'Ph.D.', 'start': 801, 'end': 806, '...   \n",
       "4   [{'text': 'Ph.D.', 'start': 801, 'end': 806, '...   \n",
       "5   [{'text': 'MS', 'start': 1, 'end': 3, 'token_s...   \n",
       "6                                                  []   \n",
       "7   [{'text': 'Ph.D.', 'start': 19, 'end': 24, 'to...   \n",
       "8   [{'text': '12+ years', 'start': 1, 'end': 10, ...   \n",
       "9   [{'text': '5+ years', 'start': 31, 'end': 39, ...   \n",
       "10  [{'text': 'Ph.D.', 'start': 75, 'end': 80, 'to...   \n",
       "\n",
       "                                            relations  \\\n",
       "0   [{'child': 18, 'head': 14, 'relationLabel': 'D...   \n",
       "1   [{'child': 7, 'head': 1, 'relationLabel': 'EXP...   \n",
       "2   [{'child': 11, 'head': 5, 'relationLabel': 'EX...   \n",
       "3   [{'child': 140, 'head': 137, 'relationLabel': ...   \n",
       "4   [{'child': 140, 'head': 137, 'relationLabel': ...   \n",
       "5   [{'child': 8, 'head': 1, 'relationLabel': 'DEG...   \n",
       "6                                                  []   \n",
       "7   [{'child': 6, 'head': 4, 'relationLabel': 'DEG...   \n",
       "8   [{'child': 5, 'head': 1, 'relationLabel': 'EXP...   \n",
       "9   [{'child': 18, 'head': 10, 'relationLabel': 'E...   \n",
       "10  [{'child': 18, 'head': 14, 'relationLabel': 'D...   \n",
       "\n",
       "                                                label  \\\n",
       "0   diploma:ph.d.;diploma_major:machine learning,a...   \n",
       "1   experience:2+ years;skills:online advertising,...   \n",
       "2   experience:5+ years,2+ years;skills:project ma...   \n",
       "3       diploma:ph.d.;diploma_major:computer science;   \n",
       "4       diploma:ph.d.;diploma_major:computer science;   \n",
       "5   diploma:ms,phd;diploma_major:operations resear...   \n",
       "6                                                       \n",
       "7       diploma:ph.d.;diploma_major:computer science;   \n",
       "8   experience:12+ years;skills:research,ph.d;dipl...   \n",
       "9   experience:5+ years,3+ years,3+ years,5+ years...   \n",
       "10  diploma:ph.d.;diploma_major:machine learning,a...   \n",
       "\n",
       "                                       extracted_text  similarity_score  \n",
       "0   diploma:phd;diploma_major:machine learning,ai,...          0.722581  \n",
       "1   experience:2+ years;skills:online advertising,...          0.508621  \n",
       "2               diploma:ba/bs;diploma_major:2+ years;          0.186047  \n",
       "3         diploma:phd;diploma_major:computer science;          0.977273  \n",
       "4         diploma:phd;diploma_major:computer science;          0.977273  \n",
       "5    diploma:ms;diploma_major:industrial engineering;          0.192771  \n",
       "6   diploma:ph.d.,ms,bs;diploma_major:physics,elec...          0.000000  \n",
       "7   diploma:phd;diploma_major:computer science,rel...          0.843137  \n",
       "8   experience:12+ years;skills:research experienc...          0.449198  \n",
       "9   experience:3+ years;skills:people research,emp...          0.283604  \n",
       "10  experience:1+ year(s);skills:research,ai,machi...          0.285714  "
      ]
     },
     "execution_count": 60,
     "metadata": {},
     "output_type": "execute_result"
    }
   ],
   "source": [
    "test_df"
   ]
  }
 ],
 "metadata": {
  "kernelspec": {
   "display_name": "Python 3.10.5 ('10A')",
   "language": "python",
   "name": "python3"
  },
  "language_info": {
   "codemirror_mode": {
    "name": "ipython",
    "version": 3
   },
   "file_extension": ".py",
   "mimetype": "text/x-python",
   "name": "python",
   "nbconvert_exporter": "python",
   "pygments_lexer": "ipython3",
   "version": "3.10.5"
  },
  "orig_nbformat": 4,
  "vscode": {
   "interpreter": {
    "hash": "2be9f4616ca1b5198a62cd2082c7feed2682666a7b8fb219311f5849134be0bf"
   }
  }
 },
 "nbformat": 4,
 "nbformat_minor": 2
}
