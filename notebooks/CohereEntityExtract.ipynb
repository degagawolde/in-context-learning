{
 "cells": [
  {
   "cell_type": "markdown",
   "metadata": {},
   "source": []
  },
  {
   "cell_type": "markdown",
   "metadata": {},
   "source": [
    "# 1. Get the packages"
   ]
  },
  {
   "cell_type": "code",
   "execution_count": 19,
   "metadata": {},
   "outputs": [],
   "source": [
    "import cohere\n",
    "import pandas as pd\n",
    "import requests\n",
    "import datetime\n",
    "from tqdm import tqdm\n",
    "pd.set_option('display.max_colwidth', None)\n",
    "\n",
    "\n",
    "def get_post_titles(**kwargs):\n",
    "    \"\"\" Gets data from the pushshift api. Read more: https://github.com/pushshift/api \"\"\"\n",
    "    base_url = f\"https://api.pushshift.io/reddit/search/submission/\"\n",
    "    payload = kwargs\n",
    "    request = requests.get(base_url, params=payload)\n",
    "    return [a['title'] for a in request.json()['data']]\n"
   ]
  },
  {
   "cell_type": "markdown",
   "metadata": {},
   "source": [
    "# 2. Get the Data"
   ]
  },
  {
   "cell_type": "code",
   "execution_count": 48,
   "metadata": {},
   "outputs": [
    {
     "data": {
      "text/html": [
       "<div>\n",
       "<style scoped>\n",
       "    .dataframe tbody tr th:only-of-type {\n",
       "        vertical-align: middle;\n",
       "    }\n",
       "\n",
       "    .dataframe tbody tr th {\n",
       "        vertical-align: top;\n",
       "    }\n",
       "\n",
       "    .dataframe thead th {\n",
       "        text-align: right;\n",
       "    }\n",
       "</style>\n",
       "<table border=\"1\" class=\"dataframe\">\n",
       "  <thead>\n",
       "    <tr style=\"text-align: right;\">\n",
       "      <th></th>\n",
       "      <th>document</th>\n",
       "      <th>tokens</th>\n",
       "      <th>relations</th>\n",
       "    </tr>\n",
       "  </thead>\n",
       "  <tbody>\n",
       "    <tr>\n",
       "      <th>0</th>\n",
       "      <td>Bachelor's degree in Mechanical Engineering or Physical Science 3+ years track record of developing or specifying fiber optic cables and connector related products Knowledge of fiber optic component, cabling, and interconnect products, technologies, and standards Experience in statistical data analysis Experience with product life cycle management (PLM) process Experience providing solutions to problems and meeting deadlines Experience engaging stakeholders PREFERRED Advanced degree Experience using a software tool for statistical data analysis such as JMP Experience using Agile as product life-cycle management tool Data center or other mission critical development experience</td>\n",
       "      <td>[{'text': 'Bachelor', 'start': 0, 'end': 8, 'token_start': 0, 'token_end': 0, 'entityLabel': 'DIPLOMA'}, {'text': 'Mechanical Engineering', 'start': 21, 'end': 43, 'token_start': 4, 'token_end': 5, 'entityLabel': 'DIPLOMA_MAJOR'}, {'text': 'Physical Science', 'start': 47, 'end': 63, 'token_start': 7, 'token_end': 8, 'entityLabel': 'DIPLOMA_MAJOR'}, {'text': '3+ years', 'start': 64, 'end': 72, 'token_start': 9, 'token_end': 11, 'entityLabel': 'EXPERIENCE'}, {'text': 'developing', 'start': 89, 'end': 99, 'token_start': 15, 'token_end': 15, 'entityLabel': 'SKILLS'}, {'text': 'fiber optic cables', 'start': 114, 'end': 132, 'token_start': 18, 'token_end': 20, 'entityLabel': 'SKILLS'}, {'text': 'connector related products', 'start': 137, 'end': 163, 'token_start': 22, 'token_end': 24, 'entityLabel': 'SKILLS'}]</td>\n",
       "      <td>[{'child': 4, 'head': 0, 'relationLabel': 'DEGREE_IN'}, {'child': 7, 'head': 0, 'relationLabel': 'DEGREE_IN'}, {'child': 15, 'head': 9, 'relationLabel': 'EXPERIENCE_IN'}, {'child': 18, 'head': 9, 'relationLabel': 'EXPERIENCE_IN'}, {'child': 22, 'head': 9, 'relationLabel': 'EXPERIENCE_IN'}]</td>\n",
       "    </tr>\n",
       "  </tbody>\n",
       "</table>\n",
       "</div>"
      ],
      "text/plain": [
       "                                                                                                                                                                                                                                                                                                                                                                                                                                                                                                                                                                                                                                                                                                       document  \\\n",
       "0  Bachelor's degree in Mechanical Engineering or Physical Science 3+ years track record of developing or specifying fiber optic cables and connector related products Knowledge of fiber optic component, cabling, and interconnect products, technologies, and standards Experience in statistical data analysis Experience with product life cycle management (PLM) process Experience providing solutions to problems and meeting deadlines Experience engaging stakeholders PREFERRED Advanced degree Experience using a software tool for statistical data analysis such as JMP Experience using Agile as product life-cycle management tool Data center or other mission critical development experience   \n",
       "\n",
       "                                                                                                                                                                                                                                                                                                                                                                                                                                                                                                                                                                                                                                                                                                                                                                                                                                            tokens  \\\n",
       "0  [{'text': 'Bachelor', 'start': 0, 'end': 8, 'token_start': 0, 'token_end': 0, 'entityLabel': 'DIPLOMA'}, {'text': 'Mechanical Engineering', 'start': 21, 'end': 43, 'token_start': 4, 'token_end': 5, 'entityLabel': 'DIPLOMA_MAJOR'}, {'text': 'Physical Science', 'start': 47, 'end': 63, 'token_start': 7, 'token_end': 8, 'entityLabel': 'DIPLOMA_MAJOR'}, {'text': '3+ years', 'start': 64, 'end': 72, 'token_start': 9, 'token_end': 11, 'entityLabel': 'EXPERIENCE'}, {'text': 'developing', 'start': 89, 'end': 99, 'token_start': 15, 'token_end': 15, 'entityLabel': 'SKILLS'}, {'text': 'fiber optic cables', 'start': 114, 'end': 132, 'token_start': 18, 'token_end': 20, 'entityLabel': 'SKILLS'}, {'text': 'connector related products', 'start': 137, 'end': 163, 'token_start': 22, 'token_end': 24, 'entityLabel': 'SKILLS'}]   \n",
       "\n",
       "                                                                                                                                                                                                                                                                                            relations  \n",
       "0  [{'child': 4, 'head': 0, 'relationLabel': 'DEGREE_IN'}, {'child': 7, 'head': 0, 'relationLabel': 'DEGREE_IN'}, {'child': 15, 'head': 9, 'relationLabel': 'EXPERIENCE_IN'}, {'child': 18, 'head': 9, 'relationLabel': 'EXPERIENCE_IN'}, {'child': 22, 'head': 9, 'relationLabel': 'EXPERIENCE_IN'}]  "
      ]
     },
     "execution_count": 48,
     "metadata": {},
     "output_type": "execute_result"
    }
   ],
   "source": [
    "df = pd.read_json('../data/entity/relations_dev.txt')\n",
    "df[:1]"
   ]
  },
  {
   "cell_type": "markdown",
   "metadata": {},
   "source": [
    "# preprocess the data"
   ]
  },
  {
   "cell_type": "code",
   "execution_count": 50,
   "metadata": {},
   "outputs": [
    {
     "name": "stdout",
     "output_type": "stream",
     "text": [
      "Done\n"
     ]
    }
   ],
   "source": [
    "\n",
    "document_list = []\n",
    "for i in range(df.shape[0]):\n",
    "    ent = \"\"\n",
    "    docu = df.document.iloc[i]\n",
    "    for t in df.tokens.iloc[i]:\n",
    "        ent += f\"{t['entityLabel']+':'+t['text']}\\n\"\n",
    "    \n",
    "    document_list.append(docu+'\\n'+ent+'--'+'\\n')\n",
    "    \n",
    "with open('../data/output/entity.txt','w') as f:\n",
    "    for item in document_list:\n",
    "        # write each item on a new line\n",
    "        f.write(\"%s\\n\" % item)\n",
    "    print('Done')\n",
    "    "
   ]
  },
  {
   "cell_type": "code",
   "execution_count": 51,
   "metadata": {},
   "outputs": [],
   "source": [
    "import cohere\n",
    "api_key = pd.read_json(\"../config/apikey.json\")['cohere_key'][0]\n",
    "co = cohere.Client(api_key)\n"
   ]
  },
  {
   "cell_type": "markdown",
   "metadata": {},
   "source": [
    "# Preparing examples for the prompt\n"
   ]
  },
  {
   "cell_type": "markdown",
   "metadata": {},
   "source": [
    "# Running the model"
   ]
  },
  {
   "cell_type": "code",
   "execution_count": 55,
   "metadata": {},
   "outputs": [],
   "source": [
    "\n",
    "def extract(prompt):\n",
    "    extraction = co.generate(\n",
    "        model='large',\n",
    "        prompt=prompt,\n",
    "        max_tokens=10,\n",
    "        temperature=0.1,\n",
    "        stop_sequences=[\"\\n\"])\n",
    "    return(extraction.generations[0].text[:-1])\n"
   ]
  },
  {
   "cell_type": "code",
   "execution_count": 56,
   "metadata": {},
   "outputs": [
    {
     "name": "stderr",
     "output_type": "stream",
     "text": [
      "  0%|          | 0/22 [00:00<?, ?it/s]\u001b[93mWarning: Your text contains a trailing whitespace, which has been trimmed to ensure high quality generations., Your text contains a trailing whitespace, which has been trimmed to ensure high quality generations.\n",
      "\u001b[0m\n",
      "  5%|▍         | 1/22 [00:03<01:08,  3.25s/it]\u001b[93mWarning: Your text contains a trailing whitespace, which has been trimmed to ensure high quality generations., Your text contains a trailing whitespace, which has been trimmed to ensure high quality generations.\n",
      "\u001b[0m\n",
      "  9%|▉         | 2/22 [00:06<01:01,  3.05s/it]\u001b[93mWarning: Your text contains a trailing whitespace, which has been trimmed to ensure high quality generations., Your text contains a trailing whitespace, which has been trimmed to ensure high quality generations.\n",
      "\u001b[0m\n",
      " 14%|█▎        | 3/22 [00:09<00:56,  2.96s/it]\u001b[93mWarning: Your text contains a trailing whitespace, which has been trimmed to ensure high quality generations., Your text contains a trailing whitespace, which has been trimmed to ensure high quality generations.\n",
      "\u001b[0m\n",
      " 18%|█▊        | 4/22 [00:15<01:19,  4.41s/it]\u001b[93mWarning: Your text contains a trailing whitespace, which has been trimmed to ensure high quality generations., Your text contains a trailing whitespace, which has been trimmed to ensure high quality generations.\n",
      "\u001b[0m\n",
      " 23%|██▎       | 5/22 [00:22<01:28,  5.21s/it]\u001b[93mWarning: Your text contains a trailing whitespace, which has been trimmed to ensure high quality generations., Your text contains a trailing whitespace, which has been trimmed to ensure high quality generations.\n",
      "\u001b[0m\n",
      " 27%|██▋       | 6/22 [00:27<01:23,  5.21s/it]\u001b[93mWarning: Your text contains a trailing whitespace, which has been trimmed to ensure high quality generations., Your text contains a trailing whitespace, which has been trimmed to ensure high quality generations.\n",
      "\u001b[0m\n",
      " 32%|███▏      | 7/22 [00:29<01:00,  4.05s/it]\u001b[93mWarning: Your text contains a trailing whitespace, which has been trimmed to ensure high quality generations., Your text contains a trailing whitespace, which has been trimmed to ensure high quality generations.\n",
      "\u001b[0m\n",
      " 36%|███▋      | 8/22 [00:30<00:44,  3.17s/it]\u001b[93mWarning: Your text contains a trailing whitespace, which has been trimmed to ensure high quality generations., Your text contains a trailing whitespace, which has been trimmed to ensure high quality generations.\n",
      "\u001b[0m\n",
      " 41%|████      | 9/22 [00:31<00:33,  2.59s/it]\u001b[93mWarning: Your text contains a trailing whitespace, which has been trimmed to ensure high quality generations., Your text contains a trailing whitespace, which has been trimmed to ensure high quality generations.\n",
      "\u001b[0m\n",
      " 45%|████▌     | 10/22 [00:34<00:30,  2.55s/it]\u001b[93mWarning: Your text contains a trailing whitespace, which has been trimmed to ensure high quality generations., Your text contains a trailing whitespace, which has been trimmed to ensure high quality generations.\n",
      "\u001b[0m\n",
      " 50%|█████     | 11/22 [00:39<00:38,  3.48s/it]\u001b[93mWarning: Your text contains a trailing whitespace, which has been trimmed to ensure high quality generations., Your text contains a trailing whitespace, which has been trimmed to ensure high quality generations.\n",
      "\u001b[0m\n",
      " 55%|█████▍    | 12/22 [00:42<00:31,  3.18s/it]\u001b[93mWarning: Your text contains a trailing whitespace, which has been trimmed to ensure high quality generations., Your text contains a trailing whitespace, which has been trimmed to ensure high quality generations.\n",
      "\u001b[0m\n",
      " 59%|█████▉    | 13/22 [00:44<00:26,  2.99s/it]\u001b[93mWarning: Your text contains a trailing whitespace, which has been trimmed to ensure high quality generations., Your text contains a trailing whitespace, which has been trimmed to ensure high quality generations.\n",
      "\u001b[0m\n",
      " 64%|██████▎   | 14/22 [00:46<00:19,  2.45s/it]\u001b[93mWarning: Your text contains a trailing whitespace, which has been trimmed to ensure high quality generations., Your text contains a trailing whitespace, which has been trimmed to ensure high quality generations.\n",
      "\u001b[0m\n",
      " 68%|██████▊   | 15/22 [00:47<00:14,  2.08s/it]\u001b[93mWarning: Your text contains a trailing whitespace, which has been trimmed to ensure high quality generations., Your text contains a trailing whitespace, which has been trimmed to ensure high quality generations.\n",
      "\u001b[0m\n",
      " 73%|███████▎  | 16/22 [00:48<00:10,  1.81s/it]\u001b[93mWarning: Your text contains a trailing whitespace, which has been trimmed to ensure high quality generations., Your text contains a trailing whitespace, which has been trimmed to ensure high quality generations.\n",
      "\u001b[0m\n",
      " 77%|███████▋  | 17/22 [00:52<00:11,  2.38s/it]\u001b[93mWarning: Your text contains a trailing whitespace, which has been trimmed to ensure high quality generations., Your text contains a trailing whitespace, which has been trimmed to ensure high quality generations.\n",
      "\u001b[0m\n",
      " 82%|████████▏ | 18/22 [00:55<00:10,  2.62s/it]\u001b[93mWarning: Your text contains a trailing whitespace, which has been trimmed to ensure high quality generations., Your text contains a trailing whitespace, which has been trimmed to ensure high quality generations.\n",
      "\u001b[0m\n",
      " 86%|████████▋ | 19/22 [00:57<00:07,  2.34s/it]\u001b[93mWarning: Your text contains a trailing whitespace, which has been trimmed to ensure high quality generations., Your text contains a trailing whitespace, which has been trimmed to ensure high quality generations.\n",
      "\u001b[0m\n",
      " 91%|█████████ | 20/22 [00:58<00:04,  2.13s/it]\u001b[93mWarning: Your text contains a trailing whitespace, which has been trimmed to ensure high quality generations., Your text contains a trailing whitespace, which has been trimmed to ensure high quality generations.\n",
      "\u001b[0m\n",
      " 95%|█████████▌| 21/22 [00:59<00:01,  1.85s/it]\u001b[93mWarning: Your text contains a trailing whitespace, which has been trimmed to ensure high quality generations., Your text contains a trailing whitespace, which has been trimmed to ensure high quality generations.\n",
      "\u001b[0m\n",
      "100%|██████████| 22/22 [01:01<00:00,  2.79s/it]\n"
     ]
    }
   ],
   "source": [
    "results = []\n",
    "for text in tqdm(document_list):\n",
    "    try:\n",
    "        extracted_text = extract(text)\n",
    "        results.append(extracted_text)\n",
    "    except Exception as e:\n",
    "        print('ERROR: ', e)\n"
   ]
  },
  {
   "cell_type": "code",
   "execution_count": 57,
   "metadata": {},
   "outputs": [
    {
     "data": {
      "text/html": [
       "<div>\n",
       "<style scoped>\n",
       "    .dataframe tbody tr th:only-of-type {\n",
       "        vertical-align: middle;\n",
       "    }\n",
       "\n",
       "    .dataframe tbody tr th {\n",
       "        vertical-align: top;\n",
       "    }\n",
       "\n",
       "    .dataframe thead th {\n",
       "        text-align: right;\n",
       "    }\n",
       "</style>\n",
       "<table border=\"1\" class=\"dataframe\">\n",
       "  <thead>\n",
       "    <tr style=\"text-align: right;\">\n",
       "      <th></th>\n",
       "      <th>text</th>\n",
       "      <th>extracted_text</th>\n",
       "    </tr>\n",
       "  </thead>\n",
       "  <tbody>\n",
       "    <tr>\n",
       "      <th>0</th>\n",
       "      <td>Bachelor's degree in Mechanical Engineering or Physical Science 3+ years track record of developing or specifying fiber optic cables and connector related products Knowledge of fiber optic component, cabling, and interconnect products, technologies, and standards Experience in statistical data analysis Experience with product life cycle management (PLM) process Experience providing solutions to problems and meeting deadlines Experience engaging stakeholders PREFERRED Advanced degree Experience using a software tool for statistical data analysis such as JMP Experience using Agile as product life-cycle management tool Data center or other mission critical development experience\\nDIPLOMA:Bachelor\\nDIPLOMA_MAJOR:Mechanical Engineering\\nDIPLOMA_MAJOR:Physical Science\\nEXPERIENCE:3+ years\\nSKILLS:developing\\nSKILLS:fiber optic cables\\nSKILLS:connector related products\\n--\\n</td>\n",
       "      <td></td>\n",
       "    </tr>\n",
       "    <tr>\n",
       "      <th>1</th>\n",
       "      <td>10+ years of software engineering work experience. Technical experience in release automation engineering, CI/CD or related roles. Experience building and leading a software organization through product design, delivery and commercialization of consumer electronics devices. Experience recruiting and managing technical teams, including performance management. BS/MS in Computer Science. Experience in leading timeline, multi-partner initiatives. Organizational communication and coordination experience. PREFERRED 5+ years of experience with hands-on technical management, release engineering, tools engineering, DevOps, or related area.\\nEXPERIENCE:10+ years\\nSKILLS:software engineering\\nEXPERIENCE:5+ years\\nSKILLS:technical management\\nSKILLS:release engineering\\nSKILLS:tools engineering\\nSKILLS:DevOps\\nDIPLOMA:BS/MS\\nDIPLOMA_MAJOR:Computer Science\\n--\\n</td>\n",
       "      <td></td>\n",
       "    </tr>\n",
       "    <tr>\n",
       "      <th>2</th>\n",
       "      <td>3+ years Swift &amp; Objective-C and experience with iOS internals Experience building an entire app from scratch and ideally a portfolio of apps featured in the App Store Someone who knows every trick in the book on UI transitions, network communication and memory/battery efficiency Strong UI/design skill experience is a plus\\nEXPERIENCE:3+ years\\nSKILLS:Swift &amp; Objective-C\\n--\\n</td>\n",
       "      <td></td>\n",
       "    </tr>\n",
       "    <tr>\n",
       "      <th>3</th>\n",
       "      <td>8+ years experience in software engineering leadership 5+ years people management experience including managing leaders and managing remotely across regions Strategic thinker with proven track record of transforming operations to provide customer experience through innovation and improvement Track record of working with VP, C-level Executives Experience deploying operational support models across enterprise organizations Communication/presentations experience Experience working with all levels of management internally and externally Experience meeting objectives in an entrepreneurial environment Collaboration and relationship-building experience BA/BS degree or higher\\nEXPERIENCE:8+ years\\nSKILLS:software engineering\\nEXPERIENCE:5+ years\\nSKILLS:people management\\nSKILLS:managing leaders\\n--\\n</td>\n",
       "      <td></td>\n",
       "    </tr>\n",
       "    <tr>\n",
       "      <th>4</th>\n",
       "      <td>BS degree in Computer Science or related field. 7+ years C++ experience, including C++11 features and principles. 5+ years experience creating software for real-time environments such as games or robotics. 2+ years experience managing software engineers. Proven track record of software development, including shipping one or more products on large code bases that span platforms and tools. Problem solving and optimization experience. Communication experience and demonstrated experience working across disciplines and teams to drive solutions. PREFERRED Hands-on experience with 3D computer vision algorithms including Calibration, SLAM, Reconstruction, Mapping, Localization, Sensor Fusion, State Estimation and Image Processing Experience with designing (products or open-source/git software) of inertial/optical sensing devices Publication in leading workshops or conferences such as CVPR, ECCV, ICCV, SIGGRAPH, ICCP, RSS, ICRA, etc.\\nDIPLOMA:BS\\nDIPLOMA_MAJOR:Computer Science\\nEXPERIENCE:7+ years\\nSKILLS:C++\\nSKILLS:C++11\\nEXPERIENCE:5+ years\\nSKILLS:creating software for real-time environments\\nSKILLS:games\\nSKILLS:robotics\\nEXPERIENCE:2+ years\\nSKILLS:managing software engineers\\n--\\n</td>\n",
       "      <td></td>\n",
       "    </tr>\n",
       "  </tbody>\n",
       "</table>\n",
       "</div>"
      ],
      "text/plain": [
       "                                                                                                                                                                                                                                                                                                                                                                                                                                                                                                                                                                                                                                                                                                                                                                                                                                                                                                                                                                                                                                                                                                                                                                                                                                            text  \\\n",
       "0                                                                                                                                                                                                                                                                                                                               Bachelor's degree in Mechanical Engineering or Physical Science 3+ years track record of developing or specifying fiber optic cables and connector related products Knowledge of fiber optic component, cabling, and interconnect products, technologies, and standards Experience in statistical data analysis Experience with product life cycle management (PLM) process Experience providing solutions to problems and meeting deadlines Experience engaging stakeholders PREFERRED Advanced degree Experience using a software tool for statistical data analysis such as JMP Experience using Agile as product life-cycle management tool Data center or other mission critical development experience\\nDIPLOMA:Bachelor\\nDIPLOMA_MAJOR:Mechanical Engineering\\nDIPLOMA_MAJOR:Physical Science\\nEXPERIENCE:3+ years\\nSKILLS:developing\\nSKILLS:fiber optic cables\\nSKILLS:connector related products\\n--\\n   \n",
       "1                                                                                                                                                                                                                                                                                                                                                  10+ years of software engineering work experience. Technical experience in release automation engineering, CI/CD or related roles. Experience building and leading a software organization through product design, delivery and commercialization of consumer electronics devices. Experience recruiting and managing technical teams, including performance management. BS/MS in Computer Science. Experience in leading timeline, multi-partner initiatives. Organizational communication and coordination experience. PREFERRED 5+ years of experience with hands-on technical management, release engineering, tools engineering, DevOps, or related area.\\nEXPERIENCE:10+ years\\nSKILLS:software engineering\\nEXPERIENCE:5+ years\\nSKILLS:technical management\\nSKILLS:release engineering\\nSKILLS:tools engineering\\nSKILLS:DevOps\\nDIPLOMA:BS/MS\\nDIPLOMA_MAJOR:Computer Science\\n--\\n   \n",
       "2                                                                                                                                                                                                                                                                                                                                                                                                                                                                                                                                                                                                                                                                                                                                                                                                                                                    3+ years Swift & Objective-C and experience with iOS internals Experience building an entire app from scratch and ideally a portfolio of apps featured in the App Store Someone who knows every trick in the book on UI transitions, network communication and memory/battery efficiency Strong UI/design skill experience is a plus\\nEXPERIENCE:3+ years\\nSKILLS:Swift & Objective-C\\n--\\n   \n",
       "3                                                                                                                                                                                                                                                                                                                                                                                                           8+ years experience in software engineering leadership 5+ years people management experience including managing leaders and managing remotely across regions Strategic thinker with proven track record of transforming operations to provide customer experience through innovation and improvement Track record of working with VP, C-level Executives Experience deploying operational support models across enterprise organizations Communication/presentations experience Experience working with all levels of management internally and externally Experience meeting objectives in an entrepreneurial environment Collaboration and relationship-building experience BA/BS degree or higher\\nEXPERIENCE:8+ years\\nSKILLS:software engineering\\nEXPERIENCE:5+ years\\nSKILLS:people management\\nSKILLS:managing leaders\\n--\\n   \n",
       "4  BS degree in Computer Science or related field. 7+ years C++ experience, including C++11 features and principles. 5+ years experience creating software for real-time environments such as games or robotics. 2+ years experience managing software engineers. Proven track record of software development, including shipping one or more products on large code bases that span platforms and tools. Problem solving and optimization experience. Communication experience and demonstrated experience working across disciplines and teams to drive solutions. PREFERRED Hands-on experience with 3D computer vision algorithms including Calibration, SLAM, Reconstruction, Mapping, Localization, Sensor Fusion, State Estimation and Image Processing Experience with designing (products or open-source/git software) of inertial/optical sensing devices Publication in leading workshops or conferences such as CVPR, ECCV, ICCV, SIGGRAPH, ICCP, RSS, ICRA, etc.\\nDIPLOMA:BS\\nDIPLOMA_MAJOR:Computer Science\\nEXPERIENCE:7+ years\\nSKILLS:C++\\nSKILLS:C++11\\nEXPERIENCE:5+ years\\nSKILLS:creating software for real-time environments\\nSKILLS:games\\nSKILLS:robotics\\nEXPERIENCE:2+ years\\nSKILLS:managing software engineers\\n--\\n   \n",
       "\n",
       "  extracted_text  \n",
       "0                 \n",
       "1                 \n",
       "2                 \n",
       "3                 \n",
       "4                 "
      ]
     },
     "execution_count": 57,
     "metadata": {},
     "output_type": "execute_result"
    }
   ],
   "source": [
    "test_df = pd.DataFrame(data={'text': document_list, 'extracted_text': results})\n",
    "test_df.head()"
   ]
  },
  {
   "cell_type": "code",
   "execution_count": 58,
   "metadata": {},
   "outputs": [
    {
     "ename": "CohereError",
     "evalue": "invalid type, for proper usage, please refer to https://docs.cohere.ai/generate-reference",
     "output_type": "error",
     "traceback": [
      "\u001b[0;31m---------------------------------------------------------------------------\u001b[0m",
      "\u001b[0;31mCohereError\u001b[0m                               Traceback (most recent call last)",
      "\u001b[1;32m/Users/user/TENAC/week-1-4/Week-4/in-context-learning/notebooks/CohereEntityExtract.ipynb Cell 16\u001b[0m in \u001b[0;36m<cell line: 1>\u001b[0;34m()\u001b[0m\n\u001b[0;32m----> <a href='vscode-notebook-cell:/Users/user/TENAC/week-1-4/Week-4/in-context-learning/notebooks/CohereEntityExtract.ipynb#X30sZmlsZQ%3D%3D?line=0'>1</a>\u001b[0m response \u001b[39m=\u001b[39m co\u001b[39m.\u001b[39;49mgenerate(\n\u001b[1;32m      <a href='vscode-notebook-cell:/Users/user/TENAC/week-1-4/Week-4/in-context-learning/notebooks/CohereEntityExtract.ipynb#X30sZmlsZQ%3D%3D?line=1'>2</a>\u001b[0m     model\u001b[39m=\u001b[39;49m\u001b[39m'\u001b[39;49m\u001b[39mlarge\u001b[39;49m\u001b[39m'\u001b[39;49m,\n\u001b[1;32m      <a href='vscode-notebook-cell:/Users/user/TENAC/week-1-4/Week-4/in-context-learning/notebooks/CohereEntityExtract.ipynb#X30sZmlsZQ%3D%3D?line=2'>3</a>\u001b[0m     prompt\u001b[39m=\u001b[39;49mdocument_list,\n\u001b[1;32m      <a href='vscode-notebook-cell:/Users/user/TENAC/week-1-4/Week-4/in-context-learning/notebooks/CohereEntityExtract.ipynb#X30sZmlsZQ%3D%3D?line=3'>4</a>\u001b[0m     max_tokens\u001b[39m=\u001b[39;49m\u001b[39m20\u001b[39;49m,\n\u001b[1;32m      <a href='vscode-notebook-cell:/Users/user/TENAC/week-1-4/Week-4/in-context-learning/notebooks/CohereEntityExtract.ipynb#X30sZmlsZQ%3D%3D?line=4'>5</a>\u001b[0m     temperature\u001b[39m=\u001b[39;49m\u001b[39m0.5\u001b[39;49m,\n\u001b[1;32m      <a href='vscode-notebook-cell:/Users/user/TENAC/week-1-4/Week-4/in-context-learning/notebooks/CohereEntityExtract.ipynb#X30sZmlsZQ%3D%3D?line=5'>6</a>\u001b[0m     k\u001b[39m=\u001b[39;49m\u001b[39m0\u001b[39;49m,\n\u001b[1;32m      <a href='vscode-notebook-cell:/Users/user/TENAC/week-1-4/Week-4/in-context-learning/notebooks/CohereEntityExtract.ipynb#X30sZmlsZQ%3D%3D?line=6'>7</a>\u001b[0m     p\u001b[39m=\u001b[39;49m\u001b[39m1\u001b[39;49m,\n\u001b[1;32m      <a href='vscode-notebook-cell:/Users/user/TENAC/week-1-4/Week-4/in-context-learning/notebooks/CohereEntityExtract.ipynb#X30sZmlsZQ%3D%3D?line=7'>8</a>\u001b[0m     frequency_penalty\u001b[39m=\u001b[39;49m\u001b[39m0\u001b[39;49m,\n\u001b[1;32m      <a href='vscode-notebook-cell:/Users/user/TENAC/week-1-4/Week-4/in-context-learning/notebooks/CohereEntityExtract.ipynb#X30sZmlsZQ%3D%3D?line=8'>9</a>\u001b[0m     presence_penalty\u001b[39m=\u001b[39;49m\u001b[39m0\u001b[39;49m,\n\u001b[1;32m     <a href='vscode-notebook-cell:/Users/user/TENAC/week-1-4/Week-4/in-context-learning/notebooks/CohereEntityExtract.ipynb#X30sZmlsZQ%3D%3D?line=9'>10</a>\u001b[0m     stop_sequences\u001b[39m=\u001b[39;49m[\u001b[39m\"\u001b[39;49m\u001b[39m--\u001b[39;49m\u001b[39m\"\u001b[39;49m],\n\u001b[1;32m     <a href='vscode-notebook-cell:/Users/user/TENAC/week-1-4/Week-4/in-context-learning/notebooks/CohereEntityExtract.ipynb#X30sZmlsZQ%3D%3D?line=10'>11</a>\u001b[0m     return_likelihoods\u001b[39m=\u001b[39;49m\u001b[39m'\u001b[39;49m\u001b[39mNONE\u001b[39;49m\u001b[39m'\u001b[39;49m)\n\u001b[1;32m     <a href='vscode-notebook-cell:/Users/user/TENAC/week-1-4/Week-4/in-context-learning/notebooks/CohereEntityExtract.ipynb#X30sZmlsZQ%3D%3D?line=11'>12</a>\u001b[0m \u001b[39mprint\u001b[39m(\u001b[39m'\u001b[39m\u001b[39mPrediction: \u001b[39m\u001b[39m{}\u001b[39;00m\u001b[39m'\u001b[39m\u001b[39m.\u001b[39mformat(response\u001b[39m.\u001b[39mgenerations[\u001b[39m0\u001b[39m]\u001b[39m.\u001b[39mtext))\n",
      "File \u001b[0;32m~/miniforge3/envs/10A/lib/python3.10/site-packages/cohere/client.py:109\u001b[0m, in \u001b[0;36mClient.generate\u001b[0;34m(self, prompt, model, num_generations, max_tokens, temperature, k, p, frequency_penalty, presence_penalty, stop_sequences, return_likelihoods, truncate)\u001b[0m\n\u001b[1;32m     82\u001b[0m \u001b[39mdef\u001b[39;00m \u001b[39mgenerate\u001b[39m(\u001b[39mself\u001b[39m,\n\u001b[1;32m     83\u001b[0m              prompt: \u001b[39mstr\u001b[39m,\n\u001b[1;32m     84\u001b[0m              model: \u001b[39mstr\u001b[39m \u001b[39m=\u001b[39m \u001b[39mNone\u001b[39;00m,\n\u001b[0;32m   (...)\u001b[0m\n\u001b[1;32m     93\u001b[0m              return_likelihoods: \u001b[39mstr\u001b[39m \u001b[39m=\u001b[39m \u001b[39m'\u001b[39m\u001b[39mNONE\u001b[39m\u001b[39m'\u001b[39m,\n\u001b[1;32m     94\u001b[0m              truncate: \u001b[39mstr\u001b[39m \u001b[39m=\u001b[39m \u001b[39mNone\u001b[39;00m) \u001b[39m-\u001b[39m\u001b[39m>\u001b[39m Generations:\n\u001b[1;32m     95\u001b[0m     json_body \u001b[39m=\u001b[39m json\u001b[39m.\u001b[39mdumps({\n\u001b[1;32m     96\u001b[0m         \u001b[39m'\u001b[39m\u001b[39mmodel\u001b[39m\u001b[39m'\u001b[39m: model,\n\u001b[1;32m     97\u001b[0m         \u001b[39m'\u001b[39m\u001b[39mprompt\u001b[39m\u001b[39m'\u001b[39m: prompt,\n\u001b[0;32m   (...)\u001b[0m\n\u001b[1;32m    107\u001b[0m         \u001b[39m'\u001b[39m\u001b[39mtruncate\u001b[39m\u001b[39m'\u001b[39m: truncate,\n\u001b[1;32m    108\u001b[0m     })\n\u001b[0;32m--> 109\u001b[0m     response \u001b[39m=\u001b[39m \u001b[39mself\u001b[39;49m\u001b[39m.\u001b[39;49m__request(json_body, cohere\u001b[39m.\u001b[39;49mGENERATE_URL)\n\u001b[1;32m    111\u001b[0m     generations: List[Generation] \u001b[39m=\u001b[39m []\n\u001b[1;32m    112\u001b[0m     \u001b[39mfor\u001b[39;00m gen \u001b[39min\u001b[39;00m response[\u001b[39m'\u001b[39m\u001b[39mgenerations\u001b[39m\u001b[39m'\u001b[39m]:\n",
      "File \u001b[0;32m~/miniforge3/envs/10A/lib/python3.10/site-packages/cohere/client.py:277\u001b[0m, in \u001b[0;36mClient.__request\u001b[0;34m(self, json_body, endpoint)\u001b[0m\n\u001b[1;32m    275\u001b[0m         \u001b[39mraise\u001b[39;00m CohereError(message\u001b[39m=\u001b[39mresponse\u001b[39m.\u001b[39mtext, http_status\u001b[39m=\u001b[39mresponse\u001b[39m.\u001b[39mstatus_code, headers\u001b[39m=\u001b[39mresponse\u001b[39m.\u001b[39mheaders)\n\u001b[1;32m    276\u001b[0m     \u001b[39mif\u001b[39;00m \u001b[39m'\u001b[39m\u001b[39mmessage\u001b[39m\u001b[39m'\u001b[39m \u001b[39min\u001b[39;00m res\u001b[39m.\u001b[39mkeys():  \u001b[39m# has errors\u001b[39;00m\n\u001b[0;32m--> 277\u001b[0m         \u001b[39mraise\u001b[39;00m CohereError(message\u001b[39m=\u001b[39mres[\u001b[39m'\u001b[39m\u001b[39mmessage\u001b[39m\u001b[39m'\u001b[39m], http_status\u001b[39m=\u001b[39mresponse\u001b[39m.\u001b[39mstatus_code, headers\u001b[39m=\u001b[39mresponse\u001b[39m.\u001b[39mheaders)\n\u001b[1;32m    278\u001b[0m     \u001b[39mself\u001b[39m\u001b[39m.\u001b[39m__print_warning_msg(response)\n\u001b[1;32m    280\u001b[0m \u001b[39mreturn\u001b[39;00m res\n",
      "\u001b[0;31mCohereError\u001b[0m: invalid type, for proper usage, please refer to https://docs.cohere.ai/generate-reference"
     ]
    }
   ],
   "source": [
    "\n",
    "response = co.generate(\n",
    "    model='large',\n",
    "    prompt=document_list,\n",
    "    max_tokens=20,\n",
    "    temperature=0.5,\n",
    "    k=0,\n",
    "    p=1,\n",
    "    frequency_penalty=0,\n",
    "    presence_penalty=0,\n",
    "    stop_sequences=[\"--\"],\n",
    "    return_likelihoods='NONE')\n",
    "print('Prediction: {}'.format(response.generations[0].text))\n"
   ]
  }
 ],
 "metadata": {
  "kernelspec": {
   "display_name": "Python 3.10.5 ('10A')",
   "language": "python",
   "name": "python3"
  },
  "language_info": {
   "codemirror_mode": {
    "name": "ipython",
    "version": 3
   },
   "file_extension": ".py",
   "mimetype": "text/x-python",
   "name": "python",
   "nbconvert_exporter": "python",
   "pygments_lexer": "ipython3",
   "version": "3.10.5"
  },
  "orig_nbformat": 4,
  "vscode": {
   "interpreter": {
    "hash": "2be9f4616ca1b5198a62cd2082c7feed2682666a7b8fb219311f5849134be0bf"
   }
  }
 },
 "nbformat": 4,
 "nbformat_minor": 2
}
